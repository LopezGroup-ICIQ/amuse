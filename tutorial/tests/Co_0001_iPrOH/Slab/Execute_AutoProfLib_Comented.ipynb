{
 "cells": [
  {
   "cell_type": "markdown",
   "metadata": {},
   "source": [
    "# 1. Import the library"
   ]
  },
  {
   "cell_type": "code",
   "execution_count": 1,
   "metadata": {},
   "outputs": [],
   "source": [
    "import AutoProfLib_DEF as APL"
   ]
  },
  {
   "cell_type": "markdown",
   "metadata": {},
   "source": [
    "# 2. Initialize the AutoProfLib"
   ]
  },
  {
   "cell_type": "markdown",
   "metadata": {},
   "source": [
    "## 2.1 Prepare the input"
   ]
  },
  {
   "cell_type": "code",
   "execution_count": 2,
   "metadata": {},
   "outputs": [],
   "source": [
    "#Paths: list of strings or string containing the paths or the path to the directory \n",
    "#where the regular and the frequency calculations outputs are stored. \n",
    "#The program assumes that exists a folder inside the paths provided by the user named\n",
    "#FREQ or ../Freq (thus, the frequency directories are outside the work_directory and \n",
    "#its name is Freq), in which the frequency calculations are stored\n",
    "path_to_surf_intermediates = [\"Geom\",\n",
    "                             \"../H/Geom/\",\n",
    "                \"../CH3CHOHCH3/Geom/\", \n",
    "                \"../CH3COHCH3/Geom/\",\n",
    "                   \"../CH3CHOCH3/Geom/\",\n",
    "                   \"../CH3COCH3/Geom/\",\n",
    "                  \"../CH3COCH3/Geom/\"]\n",
    "\n",
    "path_to_gas = [\"../../Gas_phase/iPrOH/Geom\", \n",
    "                   \"../../Gas_phase/H2/Geom\", \n",
    "                   \"../../Gas_phase/CH3COCH3/Geom\"]\n",
    "path_to_ts = [\"../TS_CH/Geom\", \n",
    "                  \"../TS_OH/Geom\",\n",
    "                 \"../TS_CH_OH/Geom\", \n",
    "                  \"../TS_OH_CH/Geom\"]"
   ]
  },
  {
   "cell_type": "code",
   "execution_count": 3,
   "metadata": {},
   "outputs": [],
   "source": [
    "#Geometries, frequency treatment, spin, atoms added, PBC instructions \n",
    "#and reference instructions.\n",
    "\n",
    "#list of strings or None string containing the geometry of the molecules or molecule \n",
    "#stored in the paths. \n",
    "#It is only relevant for gas phase molecules (see Gibbs method).\n",
    "surf_geometry = None\n",
    "gas_geometry = [\"nonlinear\", \"linear\", \"nonlinear\"]\n",
    "#list containing the frequencies process options (see Gibbs and Helmholtz methods\n",
    "#in the AutoProfLib user guide for further information).\n",
    "#The elements of the list should be:\n",
    "#0.\tProcess option flag: string. The accepted keys are Erase, Substitute \n",
    "#(default option) and Grimme.\n",
    "#1.\tMinimum frequency threshold: float indicating the minimum threshold from \n",
    "#which the Erase or the Substitute options will be applied.\n",
    "#2.\tApplication of the extra Grimme option on the rotational entropy: True to activate\n",
    "#it, False otherwise. \n",
    "#This flag will only make some effect if the first element of max_freq list is Grimme\n",
    "frequency_pre_process = [\"Erase\", None, False]\n",
    "#spin: list of int or int with the spin of the molecule. \n",
    "#This variable is only important for gas phase molecules (see Gibbs method in\n",
    "#the User's guide).\n",
    "spin = 0\n",
    "#Wrapp-up all the information in a list\n",
    "surf_phase = [path_to_surf_intermediates, \n",
    "                  surf_geometry, frequency_pre_process, spin]\n",
    "gas_phase = [path_to_gas, gas_geometry, frequency_pre_process, spin]\n",
    "\n",
    "TSS = [path_to_ts, surf_geometry, frequency_pre_process, spin]\n",
    "#add_atom: list of lists containing the information to add an atom to specific \n",
    "#coordinates. This utility is used to avoid problems related to mass conservation, \n",
    "#which affects to the mechanism.\n",
    "#The items of the list are:\n",
    "#0.\tList containing two items list (int) for each atom added. \n",
    "#The first item of the list indicates the phase in which the atom will be added \n",
    "#(0: adsorbed intermediates, 1: gas phase, and 2: TSs). \n",
    "#The second item indicates the index of the specie or state in which the new atom \n",
    "#will be added.\n",
    "#1.\tList containing four items list for each atom to be added. \n",
    "#The first element is the label of the atom (string), and the other 3 are the \n",
    "#corresponding x, y, and z coordinates of the atom.\n",
    "\n",
    "add_atom =  [   [[0,1], [0,3], [0,4], [0,5], [0,5], [2, 2], [2, 3] ],  \n",
    "                 [ [\"H\",5.598002346788653,5.2364688867555407,12.62224206687647],\n",
    "                  [\"H\",5.598002346788653,5.2364688867555407,12.62224206687647] ,\n",
    "                [\"H\",5.598002346788653,5.2364688867555407,12.62224206687647],\n",
    "                [\"H\",5.598002346788653,5.2364688867555407,12.62224206687647],\n",
    "                [\"H\",5.598002346788653,5.2364688867555407,12.62224206687647],\n",
    "                [\"H\",12.598002346788653,5.2364688867555407,12.62224206687647],\n",
    "                [\"H\",12.598002346788653,5.2364688867555407,12.62224206687647] ] ]\n",
    "#use_pbc: list that sets the control to use the PBC in the PreProcessor class. \n",
    "#The items of the use_pbc list are:\n",
    "#0.\tA bool. If is set as True, the PBC are applied.\n",
    "#1.\tThis item indicates to the program the structures in which the PBC will not \n",
    "#be applied. A list of lists (like the first item in add_atom input), \n",
    "#where each element is a list (int) containing two items. \n",
    "#The usage and the interpretation are the same than in the first element of the \n",
    "#add_atom input.\n",
    "#2.\tThe max_pbc threshold defined in the PreProcessor inputs\n",
    "use_pbc = [True, [[0, 5], [0, 6], [2,0],[2,1], [2,2]], 0.68]\n",
    "#reference: list containing the flags to reference the energy profile according to the user indications. The reference items are:\n",
    "#0.\tThe label of the surface state.\n",
    "#1.\tThe total number of surfaces that will be used.\n",
    "#2.\tThe gas phase reactive label.\n",
    "#3.\tThe gas phase product label.\n",
    "#4.\tThe supplementary adsorbed surface and gas phase list. \n",
    "#This list is used if an adsorbed intermediate (for instance, H*) is taken \n",
    "#into account in the reference. The first item is a bool, True if this list \n",
    "#should have effect (False otherwise), the second one is the label of the adsorbed \n",
    "#specie that will be taken into account in the reference, the third one is a bool \n",
    "#that indicates if this specie is a reactant (e.g in a hydrogenation example; then, \n",
    "#this item should be True) or a product (e.g in a dehydrogenation example; then, \n",
    "#this item should be False), and the fourth one is the label of the \n",
    "#gas phase specie (e.g H2(g)).\n",
    "\n",
    "ref = [\"Co\", 3, \"CH3CHOHCH3(g)\", 'CH3COCH3(g)', [True, \"2H\", False, 1, \"H2(g)\"]]\n"
   ]
  },
  {
   "cell_type": "code",
   "execution_count": 4,
   "metadata": {},
   "outputs": [
    {
     "name": "stderr",
     "output_type": "stream",
     "text": [
      "/home/asabadell/Total/Test/ToKamila/ADA/Microkinetic_database/Co_0001_iPrOH/Slab/AutoProfLib_DEF.py:935: VisibleDeprecationWarning: Creating an ndarray from ragged nested sequences (which is a list-or-tuple of lists-or-tuples-or ndarrays with different lengths or shapes) is deprecated. If you meant to do this, you must specify 'dtype=object' when creating the ndarray.\n",
      "  self.coords_list = np.asarray([self.get_coord_dict(i)[1] for i in Raw_Data])\n",
      "/home/asabadell/Total/Test/ToKamila/ADA/Microkinetic_database/Co_0001_iPrOH/Slab/AutoProfLib_DEF.py:945: VisibleDeprecationWarning: Creating an ndarray from ragged nested sequences (which is a list-or-tuple of lists-or-tuples-or ndarrays with different lengths or shapes) is deprecated. If you meant to do this, you must specify 'dtype=object' when creating the ndarray.\n",
      "  self.coords_list_gas = np.asarray([self.get_coord_dict(i)[1] for i in Raw_Data_gas])\n",
      "/home/asabadell/Total/Test/ToKamila/ADA/Microkinetic_database/Co_0001_iPrOH/Slab/AutoProfLib_DEF.py:955: VisibleDeprecationWarning: Creating an ndarray from ragged nested sequences (which is a list-or-tuple of lists-or-tuples-or ndarrays with different lengths or shapes) is deprecated. If you meant to do this, you must specify 'dtype=object' when creating the ndarray.\n",
      "  self.coords_list_TSs = np.asarray([self.get_coord_dict(i)[1] for i in Raw_Data_TSs])\n"
     ]
    }
   ],
   "source": [
    "#Class initialization. T_P are the initial Temperature and Pressure conditions\n",
    "ADA = APL.AutoProfLib(surf_phase, gas_phase, TSS,add_atom, use_pbc,ref,T_P \n",
    "                      = [418, 1.013E5]) "
   ]
  },
  {
   "cell_type": "code",
   "execution_count": null,
   "metadata": {},
   "outputs": [],
   "source": [
    "\n",
    "\n"
   ]
  },
  {
   "cell_type": "code",
   "execution_count": null,
   "metadata": {},
   "outputs": [],
   "source": []
  },
  {
   "cell_type": "code",
   "execution_count": null,
   "metadata": {},
   "outputs": [],
   "source": []
  },
  {
   "cell_type": "markdown",
   "metadata": {},
   "source": [
    "# 3. Generate the mechanism"
   ]
  },
  {
   "cell_type": "code",
   "execution_count": 5,
   "metadata": {
    "scrolled": false
   },
   "outputs": [
    {
     "name": "stdout",
     "output_type": "stream",
     "text": [
      "{'Empty': 1, 'C': '', 'O': '', 'H': '', 'Label': 'Co'}\n",
      "{'Empty': '', 'C': '', 'O': '', 'H': [2, 2], 'Label': '2H'}\n",
      "{'Empty': '', 'C': ['C', 'C', 'C', 'C', 'H', 'H', 'H', 'H', 'H', 'H', 'H', 'O', 0, 3], 'O': ['C', 'H', 0, 1], 'H': ['C', 'C', 'C', 'C', 'C', 'C', 'C', 'O', 0, 8], 'Label': 'CH3CHOHCH3'}\n",
      "{'Empty': '', 'C': ['C', 'C', 'C', 'C', 'H', 'H', 'H', 'H', 'H', 'H', 'O', 0, 3], 'O': ['C', 'H', 0, 1], 'H': ['C', 'C', 'C', 'C', 'C', 'C', 'O', 1, 8], 'Label': 'CH3COHCH3'}\n",
      "{'Empty': '', 'C': ['C', 'C', 'C', 'C', 'H', 'H', 'H', 'H', 'H', 'H', 'H', 'O', 0, 3], 'O': ['C', 0, 1], 'H': ['C', 'C', 'C', 'C', 'C', 'C', 'C', 1, 8], 'Label': 'CH3CHOCH3'}\n",
      "{'Empty': '', 'C': ['C', 'C', 'C', 'C', 'H', 'H', 'H', 'H', 'H', 'H', 'O', 0, 3], 'O': ['C', 0, 1], 'H': ['C', 'C', 'C', 'C', 'C', 'C', 2, 8], 'Label': 'CH3COCH3_2H'}\n",
      "{'Empty': '', 'C': ['C', 'C', 'C', 'C', 'H', 'H', 'H', 'H', 'H', 'H', 'O', 0, 3], 'O': ['C', 0, 1], 'H': ['C', 'C', 'C', 'C', 'C', 'C', 0, 6], 'Label': 'CH3COCH3'}\n",
      "{'Empty': '', 'O': ['C', 'H', 0, 1], 'H': ['C', 'C', 'C', 'C', 'C', 'C', 'C', 'O', 0, 8], 'C': ['C', 'C', 'C', 'C', 'H', 'H', 'H', 'H', 'H', 'H', 'H', 'O', 0, 3]}\n",
      "{'Empty': '', 'O': '', 'H': [2, 2], 'C': ''}\n",
      "{'Empty': '', 'O': ['C', 0, 1], 'H': ['C', 'C', 'C', 'C', 'C', 'C', 0, 6], 'C': ['C', 'C', 'C', 'C', 'H', 'H', 'H', 'H', 'H', 'H', 'O', 0, 3]}\n",
      "{'Empty': '', 'O': ['C', 'H', 0, 1], 'H': ['C', 'C', 'C', 'C', 'C', 'C', 'O', 1, 8], 'C': ['C', 'C', 'C', 'C', 'H', 'H', 'H', 'H', 'H', 'H', 'O', 0, 3]}\n",
      "{'Empty': '', 'O': ['C', 'H', 0, 1], 'H': ['C', 'C', 'C', 'C', 'C', 'C', 'C', 'O', 0, 8], 'C': ['C', 'C', 'C', 'C', 'H', 'H', 'H', 'H', 'H', 'H', 'H', 'O', 0, 3]}\n",
      "{'Empty': '', 'O': ['C', 'H', 0, 1], 'H': ['C', 'C', 'C', 'C', 'C', 'C', 'O', 1, 8], 'C': ['C', 'C', 'C', 'C', 'H', 'H', 'H', 'H', 'H', 'H', 'O', 0, 3]}\n",
      "{'Empty': '', 'O': ['C', 0, 1], 'H': ['C', 'C', 'C', 'C', 'C', 'C', 'C', 1, 8], 'C': ['C', 'C', 'C', 'C', 'H', 'H', 'H', 'H', 'H', 'H', 'H', 'O', 0, 3]}\n"
     ]
    },
    {
     "data": {
      "image/png": "[encoded data removed]",
      "text/plain": [
       "<matplotlib.figure.Figure at 0x7f6610da5d68>"
      ]
     },
     "metadata": {
      "needs_background": "light"
     },
     "output_type": "display_data"
    }
   ],
   "source": [
    "#Labels for the mechanism and the stoichiometric matrix\n",
    "Labels =[\"Co\", \"2H\", \"CH3CHOHCH3\", \"CH3COHCH3\", \"CH3CHOCH3\", \"CH3COCH3_2H\", \n",
    "        \"CH3COCH3\"]\n",
    "gas_Labels = [\"CH3CHOHCH3(g)\", \"H2(g)\", \"CH3COCH3(g)\"]\n",
    "\n",
    "TS_Labels = [\"CH\", \"OH\", \"CH-OH\", \"OH-CH\"]\n",
    "\n",
    "\n",
    "#Print the obtained connectivity dictionaries\n",
    "Labeled_dicts = ADA.get_labeled_dicts(Labels)\n",
    "for i in Labeled_dicts:\n",
    "    print(i)\n",
    "for j in ADA.gas_conn_dicts:\n",
    "    print(j)\n",
    "for k in ADA.TSs_conn_dicts:\n",
    "    print(k)\n",
    "\n",
    "#Generate the system adjacency matrix\n",
    "m = ADA.system_adjacency_matrix()\n",
    "#Generate the mechanism graph using the system adjacency matrix and the \n",
    "gr = ADA.make_mol_graphs(m, Labels)\n",
    "#Draw the mechanism as a graph\n",
    "ADA.show_graph_with_labels(m, Labels, \"./COOH_graph.png\")"
   ]
  },
  {
   "cell_type": "markdown",
   "metadata": {},
   "source": [
    "# 4. Generate the stoichiometric matrix"
   ]
  },
  {
   "cell_type": "code",
   "execution_count": 6,
   "metadata": {},
   "outputs": [],
   "source": [
    "#Generate the stoichiometric matrix generates the stoichiometric matrix \n",
    "#(as a pandas Data Frame) and the following files: the rm.mkm, \n",
    "#the human_readeable_reactions.txt and the Stoich_mat.csv\n",
    "\n",
    "#The user should provide the gas phase molecules, and the TS Labels, together\n",
    "#with a list containing the labels of the graph nodes (intermediates) to generate\n",
    "#the graph analysis. That is: find the different branches of the mechanism that leads\n",
    "#from the first node (\"Pd\" in this case) to the last intemediate (\"CH3COCH3 in this\n",
    "#case\")\n",
    "stoich_mat = ADA.get_stoich_mat(Labels, gas_Labels, TS_Labels, [Labels[0], Labels[-1]])"
   ]
  },
  {
   "cell_type": "code",
   "execution_count": 7,
   "metadata": {},
   "outputs": [
    {
     "data": {
      "text/html": [
       "<div>\n",
       "<style scoped>\n",
       "    .dataframe tbody tr th:only-of-type {\n",
       "        vertical-align: middle;\n",
       "    }\n",
       "\n",
       "    .dataframe tbody tr th {\n",
       "        vertical-align: top;\n",
       "    }\n",
       "\n",
       "    .dataframe thead th {\n",
       "        text-align: right;\n",
       "    }\n",
       "</style>\n",
       "<table border=\"1\" class=\"dataframe\">\n",
       "  <thead>\n",
       "    <tr style=\"text-align: right;\">\n",
       "      <th></th>\n",
       "      <th>R1</th>\n",
       "      <th>R2</th>\n",
       "      <th>R3</th>\n",
       "      <th>R4</th>\n",
       "      <th>R5</th>\n",
       "      <th>R6</th>\n",
       "      <th>R7</th>\n",
       "      <th>R8</th>\n",
       "      <th>R9</th>\n",
       "    </tr>\n",
       "  </thead>\n",
       "  <tbody>\n",
       "    <tr>\n",
       "      <th>i0</th>\n",
       "      <td>-1.0</td>\n",
       "      <td>-1.0</td>\n",
       "      <td>0.0</td>\n",
       "      <td>0.0</td>\n",
       "      <td>0.0</td>\n",
       "      <td>0.0</td>\n",
       "      <td>0.0</td>\n",
       "      <td>1.0</td>\n",
       "      <td>0.0</td>\n",
       "    </tr>\n",
       "    <tr>\n",
       "      <th>i1</th>\n",
       "      <td>1.0</td>\n",
       "      <td>0.0</td>\n",
       "      <td>0.0</td>\n",
       "      <td>0.0</td>\n",
       "      <td>-1.0</td>\n",
       "      <td>0.0</td>\n",
       "      <td>0.0</td>\n",
       "      <td>0.0</td>\n",
       "      <td>0.0</td>\n",
       "    </tr>\n",
       "    <tr>\n",
       "      <th>i2</th>\n",
       "      <td>0.0</td>\n",
       "      <td>1.0</td>\n",
       "      <td>-1.0</td>\n",
       "      <td>-1.0</td>\n",
       "      <td>0.0</td>\n",
       "      <td>0.0</td>\n",
       "      <td>0.0</td>\n",
       "      <td>0.0</td>\n",
       "      <td>0.0</td>\n",
       "    </tr>\n",
       "    <tr>\n",
       "      <th>i3</th>\n",
       "      <td>0.0</td>\n",
       "      <td>0.0</td>\n",
       "      <td>1.0</td>\n",
       "      <td>0.0</td>\n",
       "      <td>0.0</td>\n",
       "      <td>-1.0</td>\n",
       "      <td>0.0</td>\n",
       "      <td>0.0</td>\n",
       "      <td>0.0</td>\n",
       "    </tr>\n",
       "    <tr>\n",
       "      <th>i4</th>\n",
       "      <td>0.0</td>\n",
       "      <td>0.0</td>\n",
       "      <td>0.0</td>\n",
       "      <td>1.0</td>\n",
       "      <td>0.0</td>\n",
       "      <td>0.0</td>\n",
       "      <td>-1.0</td>\n",
       "      <td>0.0</td>\n",
       "      <td>0.0</td>\n",
       "    </tr>\n",
       "    <tr>\n",
       "      <th>i5</th>\n",
       "      <td>0.0</td>\n",
       "      <td>0.0</td>\n",
       "      <td>0.0</td>\n",
       "      <td>0.0</td>\n",
       "      <td>1.0</td>\n",
       "      <td>1.0</td>\n",
       "      <td>1.0</td>\n",
       "      <td>0.0</td>\n",
       "      <td>-1.0</td>\n",
       "    </tr>\n",
       "    <tr>\n",
       "      <th>i6</th>\n",
       "      <td>0.0</td>\n",
       "      <td>0.0</td>\n",
       "      <td>0.0</td>\n",
       "      <td>0.0</td>\n",
       "      <td>0.0</td>\n",
       "      <td>0.0</td>\n",
       "      <td>0.0</td>\n",
       "      <td>-1.0</td>\n",
       "      <td>1.0</td>\n",
       "    </tr>\n",
       "    <tr>\n",
       "      <th>CH3CHOHCH3(g)</th>\n",
       "      <td>0.0</td>\n",
       "      <td>-1.0</td>\n",
       "      <td>0.0</td>\n",
       "      <td>0.0</td>\n",
       "      <td>0.0</td>\n",
       "      <td>0.0</td>\n",
       "      <td>0.0</td>\n",
       "      <td>0.0</td>\n",
       "      <td>0.0</td>\n",
       "    </tr>\n",
       "    <tr>\n",
       "      <th>H2(g)</th>\n",
       "      <td>-1.0</td>\n",
       "      <td>0.0</td>\n",
       "      <td>0.0</td>\n",
       "      <td>0.0</td>\n",
       "      <td>0.0</td>\n",
       "      <td>0.0</td>\n",
       "      <td>0.0</td>\n",
       "      <td>0.0</td>\n",
       "      <td>1.0</td>\n",
       "    </tr>\n",
       "    <tr>\n",
       "      <th>CH3COCH3(g)</th>\n",
       "      <td>0.0</td>\n",
       "      <td>0.0</td>\n",
       "      <td>0.0</td>\n",
       "      <td>0.0</td>\n",
       "      <td>-1.0</td>\n",
       "      <td>0.0</td>\n",
       "      <td>0.0</td>\n",
       "      <td>1.0</td>\n",
       "      <td>0.0</td>\n",
       "    </tr>\n",
       "  </tbody>\n",
       "</table>\n",
       "</div>"
      ],
      "text/plain": [
       "                R1   R2   R3   R4   R5   R6   R7   R8   R9\n",
       "i0            -1.0 -1.0  0.0  0.0  0.0  0.0  0.0  1.0  0.0\n",
       "i1             1.0  0.0  0.0  0.0 -1.0  0.0  0.0  0.0  0.0\n",
       "i2             0.0  1.0 -1.0 -1.0  0.0  0.0  0.0  0.0  0.0\n",
       "i3             0.0  0.0  1.0  0.0  0.0 -1.0  0.0  0.0  0.0\n",
       "i4             0.0  0.0  0.0  1.0  0.0  0.0 -1.0  0.0  0.0\n",
       "i5             0.0  0.0  0.0  0.0  1.0  1.0  1.0  0.0 -1.0\n",
       "i6             0.0  0.0  0.0  0.0  0.0  0.0  0.0 -1.0  1.0\n",
       "CH3CHOHCH3(g)  0.0 -1.0  0.0  0.0  0.0  0.0  0.0  0.0  0.0\n",
       "H2(g)         -1.0  0.0  0.0  0.0  0.0  0.0  0.0  0.0  1.0\n",
       "CH3COCH3(g)    0.0  0.0  0.0  0.0 -1.0  0.0  0.0  1.0  0.0"
      ]
     },
     "execution_count": 7,
     "metadata": {},
     "output_type": "execute_result"
    }
   ],
   "source": [
    "stoich_mat"
   ]
  },
  {
   "cell_type": "markdown",
   "metadata": {},
   "source": [
    "# 5. Generate the energetic pathway"
   ]
  },
  {
   "cell_type": "code",
   "execution_count": 8,
   "metadata": {
    "scrolled": true
   },
   "outputs": [
    {
     "name": "stdout",
     "output_type": "stream",
     "text": [
      "Frequency list saved on Geom/freq.txt\n",
      "Energy summary at T = 418.00 K\n",
      "===============================\n",
      "Potential energy: -248.94431245 eV\n",
      "ZPE correction: 0.6622325335000001 eV\n",
      "Total Cv: 1.3648745797324187 eV/K\n",
      "U: -246.91720533676758 eV\n",
      "S: 0.006903680714148645 eV/K\n",
      "F: -249.80294387528173 eV\n",
      "===============================\n",
      "Energy summary saved at Geom/energy_summary_None.txt\n",
      "Frequency list saved on ../H/Geom/freq.txt\n",
      "Energy summary at T = 418.00 K\n",
      "===============================\n",
      "Potential energy: -252.87886573 eV\n",
      "ZPE correction: 0.8495343675000001 eV\n",
      "Total Cv: 1.3726422435281795 eV/K\n",
      "U: -250.6566891189718 eV\n",
      "S: 0.006848503576165825 eV/K\n",
      "F: -253.5193636138091 eV\n",
      "===============================\n",
      "Energy summary saved at ../H/Geom/energy_summary_None.txt\n",
      "Frequency list saved on ../CH3CHOHCH3/Geom/freq.txt\n",
      "Energy summary at T = 418.00 K\n",
      "===============================\n",
      "Potential energy: -313.37288714 eV\n",
      "ZPE correction: 3.5368572134999994 eV\n",
      "Total Cv: 1.7030891220143198 eV/K\n",
      "U: -308.13294080448566 eV\n",
      "S: 0.008673697630635848 eV/K\n",
      "F: -311.7585464140914 eV\n",
      "===============================\n",
      "Energy summary saved at ../CH3CHOHCH3/Geom/energy_summary_None.txt\n",
      "Frequency list saved on ../CH3COHCH3/Geom/freq.txt\n",
      "Energy summary at T = 418.00 K\n",
      "===============================\n",
      "Potential energy: -309.05178857 eV\n",
      "ZPE correction: 3.1969129209999996 eV\n",
      "Total Cv: 1.6784149460954936 eV/K\n",
      "U: -304.17646070290454 eV\n",
      "S: 0.008439788445688802 eV/K\n",
      "F: -307.70429227320244 eV\n",
      "===============================\n",
      "Energy summary saved at ../CH3COHCH3/Geom/energy_summary_None.txt\n",
      "Frequency list saved on ../CH3CHOCH3/Geom/freq.txt\n",
      "Energy summary at T = 418.00 K\n",
      "===============================\n",
      "Potential energy: -310.26064977 eV\n",
      "ZPE correction: 3.2608892704999977 eV\n",
      "Total Cv: 1.6595605592328424 eV/K\n",
      "U: -305.34019994026715 eV\n",
      "S: 0.008342459038667198 eV/K\n",
      "F: -308.82734781843004 eV\n",
      "===============================\n",
      "Energy summary saved at ../CH3CHOCH3/Geom/energy_summary_None.txt\n",
      "Frequency list saved on ../CH3COCH3/Geom/freq.txt\n",
      "Energy summary at T = 418.00 K\n",
      "===============================\n",
      "Potential energy: -305.85728866 eV\n",
      "ZPE correction: 2.906256253 eV\n",
      "Total Cv: 1.645781759804618 eV/K\n",
      "U: -301.3052506471954 eV\n",
      "S: 0.008150651182837308 eV/K\n",
      "F: -304.7122228416214 eV\n",
      "===============================\n",
      "Energy summary saved at ../CH3COCH3/Geom/energy_summary_None.txt\n",
      "Frequency list saved on ../CH3COCH3/Geom/freq.txt\n",
      "Energy summary at T = 418.00 K\n",
      "===============================\n",
      "Potential energy: -305.85728866 eV\n",
      "ZPE correction: 2.906256253 eV\n",
      "Total Cv: 1.645781759804618 eV/K\n",
      "U: -301.3052506471954 eV\n",
      "S: 0.008150651182837308 eV/K\n",
      "F: -304.7122228416214 eV\n",
      "===============================\n",
      "Energy summary saved at ../CH3COCH3/Geom/energy_summary_None.txt\n",
      "Frequency list saved on ../TS_CH/Geom/freq.txt\n",
      "Energy summary at T = 418.00 K\n",
      "===============================\n",
      "Potential energy: -312.31885523 eV\n",
      "ZPE correction: 3.3510956775000005 eV\n",
      "Total Cv: 1.6943293969762092 eV/K\n",
      "U: -307.2734301555238 eV\n",
      "S: 0.008499589657184515 eV/K\n",
      "F: -310.82625863222694 eV\n",
      "===============================\n",
      "Energy summary saved at ../TS_CH/Geom/energy_summary_None.txt\n",
      "Frequency list saved on ../TS_OH/Geom/freq.txt\n",
      "Energy summary at T = 418.00 K\n",
      "===============================\n",
      "Potential energy: -312.63629932 eV\n",
      "ZPE correction: 3.3539895090000016 eV\n",
      "Total Cv: 1.6852813189183609 eV/K\n",
      "U: -307.5970284920816 eV\n",
      "S: 0.008550508408066704 eV/K\n",
      "F: -311.1711410066535 eV\n",
      "===============================\n",
      "Energy summary saved at ../TS_OH/Geom/energy_summary_None.txt\n",
      "Frequency list saved on ../TS_CH_OH/Geom/freq.txt\n",
      "Energy summary at T = 418.00 K\n",
      "===============================\n",
      "Potential energy: -308.41598287 eV\n",
      "ZPE correction: 3.000667582500002 eV\n",
      "Total Cv: 1.6620981952167804 eV/K\n",
      "U: -303.7532170922832 eV\n",
      "S: 0.008263862684157524 eV/K\n",
      "F: -307.20751169426103 eV\n",
      "===============================\n",
      "Energy summary saved at ../TS_CH_OH/Geom/energy_summary_None.txt\n",
      "Frequency list saved on ../TS_OH_CH/Geom/freq.txt\n",
      "Energy summary at T = 418.00 K\n",
      "===============================\n",
      "Potential energy: -309.36956806 eV\n",
      "ZPE correction: 3.0603333825 eV\n",
      "Total Cv: 1.6602534627895786 eV/K\n",
      "U: -304.64898121471043 eV\n",
      "S: 0.008243266605472054 eV/K\n",
      "F: -308.09466665579777 eV\n",
      "===============================\n",
      "Energy summary saved at ../TS_OH_CH/Geom/energy_summary_None.txt\n",
      "Frequency list saved on ../../Gas_phase/iPrOH/Geom/freq.txt\n",
      "Energy summary at T = 418.00 K\n",
      "===============================\n",
      "Potential energy: -63.70206215 eV\n",
      "ZPE correction: 2.8561160640000005 eV\n",
      "Total Cv: 0.2707287218467003 eV\n",
      "H: -60.53919692334373 eV\n",
      "The S_t contribution is: 0.0017293253265006495eV/K\n",
      "The S_r contribution is: 0.0011015134073680429eV/K\n",
      "The S_e contribution is: 0.0eV/K\n",
      "The S_v contribution is: 0.0006371596898526196 eV/K\n",
      "The S_p contribution is: -0.0eV/K\n",
      "S: 0.0034679984237213123 eV/K\n",
      "G: -61.98882026445924 eV/K\n",
      "===============================\n",
      "Energy summary saved at ../../Gas_phase/iPrOH/Geom/energy_summary_None.txt\n",
      "Frequency list saved on ../../Gas_phase/H2/Geom/freq.txt\n",
      "Energy summary at T = 418.00 K\n",
      "===============================\n",
      "Potential energy: -6.75130747 eV\n",
      "ZPE correction: 0.2670140735 eV\n",
      "Total Cv: 0.0900512964908862 eV\n",
      "H: -6.358221659199546 eV\n",
      "The S_t contribution is: 0.0012905100204018607eV/K\n",
      "The S_r contribution is: 0.00016334037984511602eV/K\n",
      "The S_e contribution is: 0.0eV/K\n",
      "The S_v contribution is: 4.966120790968192e-10 eV/K\n",
      "The S_p contribution is: -0.0eV/K\n",
      "S: 0.0014538508968590558 eV/K\n",
      "G: -6.965931334086632 eV/K\n",
      "===============================\n",
      "Energy summary saved at ../../Gas_phase/H2/Geom/energy_summary_None.txt\n",
      "Frequency list saved on ../../Gas_phase/CH3COCH3/Geom/freq.txt\n",
      "Energy summary at T = 418.00 K\n",
      "===============================\n",
      "Potential energy: -56.06400343 eV\n",
      "ZPE correction: 2.2070347029999993 eV\n",
      "Total Cv: 0.253773689356527 eV\n",
      "H: -53.5671745968339 eV\n",
      "The S_t contribution is: 0.0017249147295508153eV/K\n",
      "The S_r contribution is: 0.0010314283627914722eV/K\n",
      "The S_e contribution is: 0.0eV/K\n",
      "The S_v contribution is: 0.000697105504565196 eV/K\n",
      "The S_p contribution is: -0.0eV/K\n",
      "S: 0.0034534485969074835 eV/K\n",
      "G: -55.01071611034123 eV/K\n",
      "===============================\n",
      "Energy summary saved at ../../Gas_phase/CH3COCH3/Geom/energy_summary_None.txt\n"
     ]
    },
    {
     "data": {
      "image/png": "[encoded data removed]",
      "text/plain": [
       "<matplotlib.figure.Figure at 0x7f65d32e2cf8>"
      ]
     },
     "metadata": {
      "needs_background": "light"
     },
     "output_type": "display_data"
    }
   ],
   "source": [
    "#Generate the energy profile and gather the energies of the gas phase, the surface,\n",
    "#and the TS, and wrap all the energy information in the energy_dict free (Gibbs for\n",
    "#gas phase, Helmholtz for adsorbed species), the energy_dict_h (Enthalpy for gas,\n",
    "#internal energy for adsorbed intermediates) and energy_dict_s (entropies). Finally,\n",
    "#the energy paths found by the programm are also returned (paths_energy).\n",
    "\n",
    "#The energy is saved in the Output_energy and Output_energy_ref (automatic) files.\n",
    "Output_energy = \"g.mkm\"\n",
    "Res = ADA.export_energies(Output_energy)\n",
    "gas,surface,tss,energy_dict_free,energy_dict_h,energy_dict_s,paths_energy = Res"
   ]
  },
  {
   "cell_type": "code",
   "execution_count": 9,
   "metadata": {},
   "outputs": [
    {
     "data": {
      "text/plain": [
       "{'A_ts': [-310.82625863222694,\n",
       "  -311.1711410066535,\n",
       "  -307.20751169426103,\n",
       "  -308.09466665579777],\n",
       " 'U_ts': [-307.2734301555238,\n",
       "  -307.5970284920816,\n",
       "  -306.932327921883,\n",
       "  -307.8280920443102],\n",
       " 'S_ts': [0.008499589657184515,\n",
       "  0.008550508408066704,\n",
       "  0.008263862684157524,\n",
       "  0.008243266605472054],\n",
       " 'Ep_ts': [-312.31885523, -312.63629932, -308.41598287, -309.36956806]}"
      ]
     },
     "execution_count": 9,
     "metadata": {},
     "output_type": "execute_result"
    }
   ],
   "source": [
    "tss"
   ]
  },
  {
   "cell_type": "code",
   "execution_count": 10,
   "metadata": {},
   "outputs": [
    {
     "data": {
      "text/plain": [
       "{'A': [-249.80294387528173,\n",
       "  -253.51936361380908,\n",
       "  -311.7585464140914,\n",
       "  -307.70429227320244,\n",
       "  -308.82734781843004,\n",
       "  -304.7122228416214,\n",
       "  -304.7122228416214],\n",
       " 'U': [-246.91720533676758,\n",
       "  -250.6566891189718,\n",
       "  -308.13294080448566,\n",
       "  -304.17646070290454,\n",
       "  -305.34019994026715,\n",
       "  -301.3052506471954,\n",
       "  -301.3052506471954],\n",
       " 'S_a': [0.006903680714148645,\n",
       "  0.006848503576165825,\n",
       "  0.008673697630635848,\n",
       "  0.008439788445688802,\n",
       "  0.008342459038667198,\n",
       "  0.008150651182837308,\n",
       "  0.008150651182837308],\n",
       " 'Ep_s': [-248.94431245,\n",
       "  -252.87886573,\n",
       "  -313.37288714,\n",
       "  -309.05178857,\n",
       "  -310.26064977,\n",
       "  -305.85728866,\n",
       "  -305.85728866]}"
      ]
     },
     "execution_count": 10,
     "metadata": {},
     "output_type": "execute_result"
    }
   ],
   "source": [
    "surface"
   ]
  },
  {
   "cell_type": "code",
   "execution_count": 11,
   "metadata": {},
   "outputs": [
    {
     "data": {
      "text/plain": [
       "{'G': [-61.98882026445924, -6.965931334086632, -55.01071611034123],\n",
       " 'H': [-60.53919692334373, -6.358221659199546, -53.5671745968339],\n",
       " 'S_g': [0.0034679984237213123, 0.0014538508968590558, 0.0034534485969074835],\n",
       " 'ElE_g': [-63.70206215, -6.75130747, -56.06400343]}"
      ]
     },
     "execution_count": 11,
     "metadata": {},
     "output_type": "execute_result"
    }
   ],
   "source": [
    "gas"
   ]
  },
  {
   "cell_type": "code",
   "execution_count": 12,
   "metadata": {
    "scrolled": true
   },
   "outputs": [
    {
     "data": {
      "text/plain": [
       "{'Co': -249.80294387528173,\n",
       " '2H': -253.51936361380908,\n",
       " 'CH3CHOHCH3': -311.7585464140914,\n",
       " 'CH3COHCH3': -307.70429227320244,\n",
       " 'CH3CHOCH3': -308.82734781843004,\n",
       " 'CH3COCH3_2H': -304.7122228416214,\n",
       " 'CH3COCH3': -304.7122228416214,\n",
       " 'TSCH3CHOHCH3,CH3COHCH3': -310.82625863222694,\n",
       " 'TSCH3CHOHCH3,CH3CHOCH3': -311.1711410066535,\n",
       " 'TSCH3COHCH3,CH3COCH3_2H': -307.20751169426103,\n",
       " 'TSCH3CHOCH3,CH3COCH3_2H': -308.09466665579777,\n",
       " 'CH3CHOHCH3(g)': -61.98882026445924,\n",
       " 'H2(g)': -6.965931334086632,\n",
       " 'CH3COCH3(g)': -55.01071611034123}"
      ]
     },
     "execution_count": 12,
     "metadata": {},
     "output_type": "execute_result"
    }
   ],
   "source": [
    "energy_dict_free\n"
   ]
  },
  {
   "cell_type": "code",
   "execution_count": 13,
   "metadata": {},
   "outputs": [
    {
     "data": {
      "text/plain": [
       "{'Co': 0.006903680714148645,\n",
       " '2H': 0.006848503576165825,\n",
       " 'CH3CHOHCH3': 0.008673697630635848,\n",
       " 'CH3COHCH3': 0.008439788445688802,\n",
       " 'CH3CHOCH3': 0.008342459038667198,\n",
       " 'CH3COCH3_2H': 0.008150651182837308,\n",
       " 'CH3COCH3': 0.008150651182837308,\n",
       " 'TSCH3CHOHCH3,CH3COHCH3': 0.008499589657184515,\n",
       " 'TSCH3CHOHCH3,CH3CHOCH3': 0.008550508408066704,\n",
       " 'TSCH3COHCH3,CH3COCH3_2H': 0.008263862684157524,\n",
       " 'TSCH3CHOCH3,CH3COCH3_2H': 0.008243266605472054,\n",
       " 'CH3CHOHCH3(g)': 0.0034679984237213123,\n",
       " 'H2(g)': 0.0014538508968590558,\n",
       " 'CH3COCH3(g)': 0.0034534485969074835}"
      ]
     },
     "execution_count": 13,
     "metadata": {},
     "output_type": "execute_result"
    }
   ],
   "source": [
    "energy_dict_s"
   ]
  },
  {
   "cell_type": "code",
   "execution_count": null,
   "metadata": {},
   "outputs": [],
   "source": []
  },
  {
   "cell_type": "code",
   "execution_count": 14,
   "metadata": {},
   "outputs": [
    {
     "data": {
      "text/plain": [
       "[{'Co': 0.0,\n",
       "  'CH3CHOHCH3': 0.03321772564953562,\n",
       "  'TSCH3CHOHCH3,CH3COHCH3': 0.9655055075140808,\n",
       "  'CH3COHCH3': 0.3710521280112289,\n",
       "  'TSCH3COHCH3,CH3COCH3_2H': 0.8678327069526404,\n",
       "  'CH3COCH3_2H': -0.35329817893500604,\n",
       "  'CH3COCH3': 0.10143714400157933},\n",
       " {'Co': 0.0,\n",
       "  'CH3CHOHCH3': 0.03321772564953562,\n",
       "  'TSCH3CHOHCH3,CH3CHOCH3': 0.620623133087463,\n",
       "  'CH3CHOCH3': -0.752003417216315,\n",
       "  'TSCH3CHOCH3,CH3COCH3_2H': -0.01932225458403991,\n",
       "  'CH3COCH3_2H': -0.35329817893500604,\n",
       "  'CH3COCH3': 0.10143714400157933}]"
      ]
     },
     "execution_count": 14,
     "metadata": {},
     "output_type": "execute_result"
    }
   ],
   "source": [
    "paths_energy"
   ]
  },
  {
   "cell_type": "code",
   "execution_count": 15,
   "metadata": {},
   "outputs": [
    {
     "data": {
      "text/plain": [
       "{'Co': {'Empty': 1, 'O': '', 'H': '', 'C': ''},\n",
       " '2H': {'Empty': '', 'O': '', 'H': [2, 2], 'C': ''},\n",
       " 'CH3CHOHCH3': {'Empty': '',\n",
       "  'O': ['C', 'H', 0, 1],\n",
       "  'H': ['C', 'C', 'C', 'C', 'C', 'C', 'C', 'O', 0, 8],\n",
       "  'C': ['C', 'C', 'C', 'C', 'H', 'H', 'H', 'H', 'H', 'H', 'H', 'O', 0, 3]},\n",
       " 'CH3COHCH3': {'Empty': '',\n",
       "  'O': ['C', 'H', 0, 1],\n",
       "  'H': ['C', 'C', 'C', 'C', 'C', 'C', 'O', 1, 8],\n",
       "  'C': ['C', 'C', 'C', 'C', 'H', 'H', 'H', 'H', 'H', 'H', 'O', 0, 3]},\n",
       " 'CH3CHOCH3': {'Empty': '',\n",
       "  'O': ['C', 0, 1],\n",
       "  'H': ['C', 'C', 'C', 'C', 'C', 'C', 'C', 1, 8],\n",
       "  'C': ['C', 'C', 'C', 'C', 'H', 'H', 'H', 'H', 'H', 'H', 'H', 'O', 0, 3]},\n",
       " 'CH3COCH3_2H': {'Empty': '',\n",
       "  'O': ['C', 0, 1],\n",
       "  'H': ['C', 'C', 'C', 'C', 'C', 'C', 2, 8],\n",
       "  'C': ['C', 'C', 'C', 'C', 'H', 'H', 'H', 'H', 'H', 'H', 'O', 0, 3]},\n",
       " 'CH3COCH3': {'Empty': '',\n",
       "  'O': ['C', 0, 1],\n",
       "  'H': ['C', 'C', 'C', 'C', 'C', 'C', 0, 6],\n",
       "  'C': ['C', 'C', 'C', 'C', 'H', 'H', 'H', 'H', 'H', 'H', 'O', 0, 3]},\n",
       " 'CH3CHOHCH3(g)': {'Empty': '',\n",
       "  'O': ['C', 'H', 0, 1],\n",
       "  'H': ['C', 'C', 'C', 'C', 'C', 'C', 'C', 'O', 0, 8],\n",
       "  'C': ['C', 'C', 'C', 'C', 'H', 'H', 'H', 'H', 'H', 'H', 'H', 'O', 0, 3],\n",
       "  'Label': 'CH3CHOHCH3(g)'},\n",
       " 'H2(g)': {'Empty': '', 'O': '', 'H': [2, 2], 'C': '', 'Label': 'H2(g)'},\n",
       " 'CH3COCH3(g)': {'Empty': '',\n",
       "  'O': ['C', 0, 1],\n",
       "  'H': ['C', 'C', 'C', 'C', 'C', 'C', 0, 6],\n",
       "  'C': ['C', 'C', 'C', 'C', 'H', 'H', 'H', 'H', 'H', 'H', 'O', 0, 3],\n",
       "  'Label': 'CH3COCH3(g)'},\n",
       " 'TSCH3CHOHCH3,CH3COHCH3': {'Empty': '',\n",
       "  'O': ['C', 'H', 0, 1],\n",
       "  'H': ['C', 'C', 'C', 'C', 'C', 'C', 'O', 1, 8],\n",
       "  'C': ['C', 'C', 'C', 'C', 'H', 'H', 'H', 'H', 'H', 'H', 'O', 0, 3],\n",
       "  'Label': 'CH'},\n",
       " 'TSCH3CHOHCH3,CH3CHOCH3': {'Empty': '',\n",
       "  'O': ['C', 'H', 0, 1],\n",
       "  'H': ['C', 'C', 'C', 'C', 'C', 'C', 'C', 'O', 0, 8],\n",
       "  'C': ['C', 'C', 'C', 'C', 'H', 'H', 'H', 'H', 'H', 'H', 'H', 'O', 0, 3],\n",
       "  'Label': 'OH'},\n",
       " 'TSCH3COHCH3,CH3COCH3_2H': {'Empty': '',\n",
       "  'O': ['C', 'H', 0, 1],\n",
       "  'H': ['C', 'C', 'C', 'C', 'C', 'C', 'O', 1, 8],\n",
       "  'C': ['C', 'C', 'C', 'C', 'H', 'H', 'H', 'H', 'H', 'H', 'O', 0, 3],\n",
       "  'Label': 'CH-OH'},\n",
       " 'TSCH3CHOCH3,CH3COCH3_2H': {'Empty': '',\n",
       "  'O': ['C', 0, 1],\n",
       "  'H': ['C', 'C', 'C', 'C', 'C', 'C', 'C', 1, 8],\n",
       "  'C': ['C', 'C', 'C', 'C', 'H', 'H', 'H', 'H', 'H', 'H', 'H', 'O', 0, 3],\n",
       "  'Label': 'OH-CH'}}"
      ]
     },
     "execution_count": 15,
     "metadata": {},
     "output_type": "execute_result"
    }
   ],
   "source": [
    "ADA.dict_complete"
   ]
  },
  {
   "cell_type": "code",
   "execution_count": 16,
   "metadata": {},
   "outputs": [
    {
     "data": {
      "text/plain": [
       "[['2Co+H2(g)', '->', '2H'],\n",
       " ['Co+CH3CHOHCH3(g)', '->', 'CH3CHOHCH3'],\n",
       " ['CH3CHOHCH3+Co', '->', 'CH3COHCH3+1H'],\n",
       " ['CH3CHOHCH3+Co', '->', 'CH3CHOCH3+1H'],\n",
       " ['2H+CH3COCH3(g)', '->', 'CH3COCH3_2H'],\n",
       " ['CH3COHCH3+Co', '->', 'CH3COCH3_2H+1H'],\n",
       " ['CH3CHOCH3+Co', '->', 'CH3COCH3_2H+1H'],\n",
       " ['CH3COCH3', '->', 'Co+CH3COCH3(g)'],\n",
       " ['CH3COCH3_2H', '->', 'CH3COCH3+H2(g)']]"
      ]
     },
     "execution_count": 16,
     "metadata": {},
     "output_type": "execute_result"
    }
   ],
   "source": [
    "#Generate the input for generating the OpenFOAM Mechanism\n",
    "Path_to_human_readeable_reactions = \"Human_readable_reactions.txt\"\n",
    "ADA.OpenFOAM_mechanism(Path_to_human_readeable_reactions)"
   ]
  },
  {
   "cell_type": "code",
   "execution_count": null,
   "metadata": {},
   "outputs": [],
   "source": []
  },
  {
   "cell_type": "code",
   "execution_count": 17,
   "metadata": {
    "scrolled": true
   },
   "outputs": [
    {
     "data": {
      "text/plain": [
       "[['Co',\n",
       "  'CH3CHOHCH3',\n",
       "  'TSCH3CHOHCH3,CH3COHCH3',\n",
       "  'CH3COHCH3',\n",
       "  'TSCH3COHCH3,CH3COCH3_2H',\n",
       "  'CH3COCH3_2H',\n",
       "  'CH3COCH3'],\n",
       " ['Co',\n",
       "  'CH3CHOHCH3',\n",
       "  'TSCH3CHOHCH3,CH3CHOCH3',\n",
       "  'CH3CHOCH3',\n",
       "  'TSCH3CHOCH3,CH3COCH3_2H',\n",
       "  'CH3COCH3_2H',\n",
       "  'CH3COCH3']]"
      ]
     },
     "execution_count": 17,
     "metadata": {},
     "output_type": "execute_result"
    }
   ],
   "source": [
    "ADA.graph_paths"
   ]
  },
  {
   "cell_type": "code",
   "execution_count": null,
   "metadata": {},
   "outputs": [],
   "source": []
  },
  {
   "cell_type": "code",
   "execution_count": null,
   "metadata": {},
   "outputs": [],
   "source": []
  }
 ],
 "metadata": {
  "kernelspec": {
   "display_name": "Python 3",
   "language": "python",
   "name": "python3"
  },
  "language_info": {
   "codemirror_mode": {
    "name": "ipython",
    "version": 3
   },
   "file_extension": ".py",
   "mimetype": "text/x-python",
   "name": "python",
   "nbconvert_exporter": "python",
   "pygments_lexer": "ipython3",
   "version": "3.7.3"
  }
 },
 "nbformat": 4,
 "nbformat_minor": 2
}
