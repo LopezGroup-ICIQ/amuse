{
 "cells": [
  {
   "cell_type": "markdown",
   "metadata": {},
   "source": [
    "# 1. Import the library"
   ]
  },
  {
   "cell_type": "code",
   "execution_count": 1,
   "metadata": {},
   "outputs": [],
   "source": [
    "import AutoProfLib as APL"
   ]
  },
  {
   "cell_type": "markdown",
   "metadata": {},
   "source": [
    "# 2. Initialize the AutoProfLib"
   ]
  },
  {
   "cell_type": "markdown",
   "metadata": {},
   "source": [
    "## 2.1 Prepare the input"
   ]
  },
  {
   "cell_type": "code",
   "execution_count": 2,
   "metadata": {},
   "outputs": [],
   "source": [
    "#Paths: list of strings or string containing the paths or the path to the directory \n",
    "#where the regular and the frequency calculations outputs are stored. \n",
    "#The program assumes that exists a folder inside the paths provided by the user named\n",
    "#FREQ or ../Freq (thus, the frequency directories are outside the work_directory and \n",
    "#its name is Freq), in which the frequency calculations are stored\n",
    "path_to_surf_intermediates = [\"../../tests/Co_0001_iPrOH/Slab\",\n",
    "                             \"../../tests/Co_0001_iPrOH/H\",\n",
    "                \"../../tests/Co_0001_iPrOH/CH3CHOHCH3\", \n",
    "                \"../../tests/Co_0001_iPrOH/CH3COHCH3\",\n",
    "                   \"../../tests/Co_0001_iPrOH/CH3CHOCH3\",\n",
    "                   \"../../tests/Co_0001_iPrOH/CH3COCH3\",\n",
    "                  \"../../tests/Co_0001_iPrOH/CH3COCH3\"]\n",
    "\n",
    "path_to_gas = [\"../../tests/Gas_phase/iPrOH\", \n",
    "                   \"../../tests/Gas_phase/H2\", \n",
    "                   \"../../tests/Gas_phase/CH3COCH3\"]\n",
    "path_to_ts = [\"../../tests/Co_0001_iPrOH/TS_CH\", \n",
    "                  \"../../tests/Co_0001_iPrOH/TS_OH\",\n",
    "                 \"../../tests/Co_0001_iPrOH/TS_CH_OH\", \n",
    "                  \"../../tests/Co_0001_iPrOH/TS_OH_CH\"]"
   ]
  },
  {
   "cell_type": "code",
   "execution_count": 3,
   "metadata": {},
   "outputs": [],
   "source": [
    "#Geometries, frequency treatment, spin, atoms added, PBC instructions \n",
    "#and reference instructions.\n",
    "\n",
    "#list of strings or None string containing the geometry of the molecules or molecule \n",
    "#stored in the paths. \n",
    "#It is only relevant for gas phase molecules (see Gibbs method).\n",
    "surf_geometry = None\n",
    "gas_geometry = [\"nonlinear\", \"linear\", \"nonlinear\"]\n",
    "#list containing the frequencies process options (see Gibbs and Helmholtz methods\n",
    "#in the AutoProfLib user guide for further information).\n",
    "#The elements of the list should be:\n",
    "#0.\tProcess option flag: string. The accepted keys are Erase, Substitute \n",
    "#(default option) and Grimme.\n",
    "#1.\tMinimum frequency threshold: float indicating the minimum threshold from \n",
    "#which the Erase or the Substitute options will be applied.\n",
    "#2.\tApplication of the extra Grimme option on the rotational entropy: True to activate\n",
    "#it, False otherwise. \n",
    "#This flag will only make some effect if the first element of max_freq list is Grimme\n",
    "frequency_pre_process = [\"Erase\", None, False]\n",
    "#spin: list of int or int with the spin of the molecule. \n",
    "#This variable is only important for gas phase molecules (see Gibbs method in\n",
    "#the User's guide).\n",
    "spin = 0\n",
    "\n",
    "#Define the file type\n",
    "file_type = \"CONTCAR\"\n",
    "#Wrapp-up all the information in a list\n",
    "surf_phase = [path_to_surf_intermediates, \n",
    "                  surf_geometry, frequency_pre_process, spin, file_type]\n",
    "gas_phase = [path_to_gas, gas_geometry, frequency_pre_process, spin, file_type]\n",
    "\n",
    "TSS = [path_to_ts, surf_geometry, frequency_pre_process, spin, file_type]\n",
    "#add_atom: list of lists containing the information to add an atom to specific \n",
    "#coordinates. This utility is used to avoid problems related to mass conservation, \n",
    "#which affects to the mechanism.\n",
    "#The items of the list are:\n",
    "#0.\tList containing two items list (int) for each atom added. \n",
    "#The first item of the list indicates the phase in which the atom will be added \n",
    "#(0: adsorbed intermediates, 1: gas phase, and 2: TSs). \n",
    "#The second item indicates the index of the specie or state in which the new atom \n",
    "#will be added.\n",
    "#1.\tList containing four items list for each atom to be added. \n",
    "#The first element is the label of the atom (string), and the other 3 are the \n",
    "#corresponding x, y, and z coordinates of the atom.\n",
    "\n",
    "add_atom =  [   [[0,1], [0,3], [0,4], [0,5], [0,5], [2, 2], [2, 3] ],  \n",
    "                 [ [\"H\",5.598002346788653,5.2364688867555407,12.62224206687647],\n",
    "                  [\"H\",5.598002346788653,5.2364688867555407,12.62224206687647] ,\n",
    "                [\"H\",5.598002346788653,5.2364688867555407,12.62224206687647],\n",
    "                [\"H\",5.598002346788653,5.2364688867555407,12.62224206687647],\n",
    "                [\"H\",5.598002346788653,5.2364688867555407,12.62224206687647],\n",
    "                [\"H\",12.598002346788653,5.2364688867555407,12.62224206687647],\n",
    "                [\"H\",12.598002346788653,5.2364688867555407,12.62224206687647] ] ]\n",
    "#use_pbc: list that sets the control to use the PBC in the PreProcessor class. \n",
    "#The items of the use_pbc list are:\n",
    "#0.\tA bool. If is set as True, the PBC are applied.\n",
    "#1.\tThis item indicates to the program the structures in which the PBC will not \n",
    "#be applied. A list of lists (like the first item in add_atom input), \n",
    "#where each element is a list (int) containing two items. \n",
    "#The usage and the interpretation are the same than in the first element of the \n",
    "#add_atom input.\n",
    "use_pbc = [True, [[0, 5], [0, 6], [2,0],[2,1], [2,2]]]\n",
    "#reference: list containing the flags to reference the energy profile according to the user indications. The reference items are:\n",
    "#0.\tThe label of the surface state.\n",
    "#1.\tThe total number of surfaces that will be used.\n",
    "#2.\tThe gas phase reactive label.\n",
    "#3.\tThe gas phase product label.\n",
    "#4.\tThe supplementary adsorbed surface and gas phase list. \n",
    "#This list is used if an adsorbed intermediate (for instance, H*) is taken \n",
    "#into account in the reference. The first item is a bool, True if this list \n",
    "#should have effect (False otherwise), the second one is the label of the adsorbed \n",
    "#specie that will be taken into account in the reference, the third one is a bool \n",
    "#that indicates if this specie is a reactant (e.g in a hydrogenation example; then, \n",
    "#this item should be True) or a product (e.g in a dehydrogenation example; then, \n",
    "#this item should be False), and the fourth one is the label of the \n",
    "#gas phase specie (e.g H2(g)).\n",
    "\n",
    "ref = [\"Co\", 3, \"CH3CHOHCH3(g)\", 'CH3COCH3(g)', [True, \"2H\", False, 1, \"H2(g)\"]]\n"
   ]
  },
  {
   "cell_type": "code",
   "execution_count": 4,
   "metadata": {},
   "outputs": [
    {
     "name": "stdout",
     "output_type": "stream",
     "text": [
      "The estimated max_pbc is 0.68. Does it corresponds to your needs? Y/N: y\n"
     ]
    },
    {
     "name": "stderr",
     "output_type": "stream",
     "text": [
      "/home/asabadell/amuse/autoproflib/AutoProfLib/example_AutoProfLib/AutoProfLib.py:1495: VisibleDeprecationWarning: Creating an ndarray from ragged nested sequences (which is a list-or-tuple of lists-or-tuples-or ndarrays with different lengths or shapes) is deprecated. If you meant to do this, you must specify 'dtype=object' when creating the ndarray.\n",
      "  self.coords_list = np.asarray([self.get_coord_dict(i)[1] for i in Raw_Data])\n",
      "/home/asabadell/amuse/autoproflib/AutoProfLib/example_AutoProfLib/AutoProfLib.py:1509: VisibleDeprecationWarning: Creating an ndarray from ragged nested sequences (which is a list-or-tuple of lists-or-tuples-or ndarrays with different lengths or shapes) is deprecated. If you meant to do this, you must specify 'dtype=object' when creating the ndarray.\n",
      "  self.coords_list_gas = np.asarray([self.get_coord_dict(i)[1] for i in Raw_Data_gas])\n",
      "/home/asabadell/amuse/autoproflib/AutoProfLib/example_AutoProfLib/AutoProfLib.py:1523: VisibleDeprecationWarning: Creating an ndarray from ragged nested sequences (which is a list-or-tuple of lists-or-tuples-or ndarrays with different lengths or shapes) is deprecated. If you meant to do this, you must specify 'dtype=object' when creating the ndarray.\n",
      "  self.coords_list_TSs = np.asarray([self.get_coord_dict(i)[1]\n"
     ]
    }
   ],
   "source": [
    "#Class initialization. T_P are the initial Temperature and Pressure conditions\n",
    "ADA = APL.AutoProfLib(surf_phase, gas_phase, TSS,add_atom, use_pbc,ref,T_P \n",
    "                      = [418, 1.0]) "
   ]
  },
  {
   "cell_type": "markdown",
   "metadata": {},
   "source": [
    "# 3. Generate the mechanism"
   ]
  },
  {
   "cell_type": "code",
   "execution_count": 5,
   "metadata": {
    "scrolled": false
   },
   "outputs": [
    {
     "name": "stdout",
     "output_type": "stream",
     "text": [
      "{'Empty': 1, 'C': '', 'H': '', 'O': '', 'Label': 'Co'}\n",
      "{'Empty': '', 'C': '', 'H': [2, 2], 'O': '', 'Label': '2H'}\n",
      "{'Empty': '', 'C': ['C', 'C', 'C', 'C', 'H', 'H', 'H', 'H', 'H', 'H', 'H', 'O', 0, 3], 'H': ['C', 'C', 'C', 'C', 'C', 'C', 'C', 'O', 0, 8], 'O': ['C', 'H', 0, 1], 'Label': 'CH3CHOHCH3'}\n",
      "{'Empty': '', 'C': ['C', 'C', 'C', 'C', 'H', 'H', 'H', 'H', 'H', 'H', 'O', 0, 3], 'H': ['C', 'C', 'C', 'C', 'C', 'C', 'O', 1, 8], 'O': ['C', 'H', 0, 1], 'Label': 'CH3COHCH3'}\n",
      "{'Empty': '', 'C': ['C', 'C', 'C', 'C', 'H', 'H', 'H', 'H', 'H', 'H', 'H', 'O', 0, 3], 'H': ['C', 'C', 'C', 'C', 'C', 'C', 'C', 1, 8], 'O': ['C', 0, 1], 'Label': 'CH3CHOCH3'}\n",
      "{'Empty': '', 'C': ['C', 'C', 'C', 'C', 'H', 'H', 'H', 'H', 'H', 'H', 'O', 0, 3], 'H': ['C', 'C', 'C', 'C', 'C', 'C', 2, 8], 'O': ['C', 0, 1], 'Label': 'CH3COCH3_2H'}\n",
      "{'Empty': '', 'C': ['C', 'C', 'C', 'C', 'H', 'H', 'H', 'H', 'H', 'H', 'O', 0, 3], 'H': ['C', 'C', 'C', 'C', 'C', 'C', 0, 6], 'O': ['C', 0, 1], 'Label': 'CH3COCH3'}\n",
      "{'Empty': '', 'C': ['C', 'C', 'C', 'C', 'H', 'H', 'H', 'H', 'H', 'H', 'H', 'O', 0, 3], 'H': ['C', 'C', 'C', 'C', 'C', 'C', 'C', 'O', 0, 8], 'O': ['C', 'H', 0, 1]}\n",
      "{'Empty': '', 'C': '', 'H': ['H', 'H', 0, 2], 'O': ''}\n",
      "{'Empty': '', 'C': ['C', 'C', 'C', 'C', 'H', 'H', 'H', 'H', 'H', 'H', 'O', 0, 3], 'H': ['C', 'C', 'C', 'C', 'C', 'C', 0, 6], 'O': ['C', 0, 1]}\n",
      "{'Empty': '', 'C': ['C', 'C', 'C', 'C', 'H', 'H', 'H', 'H', 'H', 'H', 'O', 0, 3], 'H': ['C', 'C', 'C', 'C', 'C', 'C', 'O', 1, 8], 'O': ['C', 'H', 0, 1]}\n",
      "{'Empty': '', 'C': ['C', 'C', 'C', 'C', 'H', 'H', 'H', 'H', 'H', 'H', 'H', 'O', 0, 3], 'H': ['C', 'C', 'C', 'C', 'C', 'C', 'C', 'O', 0, 8], 'O': ['C', 'H', 0, 1]}\n",
      "{'Empty': '', 'C': ['C', 'C', 'C', 'C', 'H', 'H', 'H', 'H', 'H', 'H', 'O', 0, 3], 'H': ['C', 'C', 'C', 'C', 'C', 'C', 'O', 1, 8], 'O': ['C', 'H', 0, 1]}\n",
      "{'Empty': '', 'C': ['C', 'C', 'C', 'C', 'H', 'H', 'H', 'H', 'H', 'H', 'H', 'O', 0, 3], 'H': ['C', 'C', 'C', 'C', 'C', 'C', 'C', 1, 8], 'O': ['C', 0, 1]}\n"
     ]
    },
    {
     "data": {
      "image/png": "[encoded data removed]",
      "text/plain": [
       "<Figure size 640x480 with 1 Axes>"
      ]
     },
     "metadata": {},
     "output_type": "display_data"
    }
   ],
   "source": [
    "#Labels for the mechanism and the stoichiometric matrix\n",
    "Labels =[\"Co\", \"2H\", \"CH3CHOHCH3\", \"CH3COHCH3\", \"CH3CHOCH3\", \"CH3COCH3_2H\", \n",
    "        \"CH3COCH3\"]\n",
    "gas_Labels = [\"CH3CHOHCH3(g)\", \"H2(g)\", \"CH3COCH3(g)\"]\n",
    "\n",
    "TS_Labels = [\"CH\", \"OH\", \"CH-OH\", \"OH-CH\"]\n",
    "\n",
    "\n",
    "#Print the obtained connectivity dictionaries\n",
    "Labeled_dicts = ADA.get_labeled_dicts(Labels)\n",
    "for i in Labeled_dicts:\n",
    "    print(i)\n",
    "for j in ADA.gas_conn_dicts:\n",
    "    print(j)\n",
    "for k in ADA.TSs_conn_dicts:\n",
    "    print(k)\n",
    "\n",
    "#Generate the system adjacency matrix\n",
    "m = ADA.system_adjacency_matrix()\n",
    "#Generate the mechanism graph using the system adjacency matrix and the \n",
    "gr = ADA.make_mol_graphs(m, Labels)\n",
    "#Draw the mechanism as a graph\n",
    "ADA.show_graph_with_labels(m, Labels, \"./ADA_graph.png\")"
   ]
  },
  {
   "cell_type": "markdown",
   "metadata": {},
   "source": [
    "# 4. Generate the stoichiometric matrix"
   ]
  },
  {
   "cell_type": "code",
   "execution_count": 6,
   "metadata": {},
   "outputs": [],
   "source": [
    "#Generate the stoichiometric matrix generates the stoichiometric matrix \n",
    "#(as a pandas Data Frame) and the following files: the rm.mkm, \n",
    "#the human_readeable_reactions.txt and the Stoich_mat.csv\n",
    "\n",
    "#The user should provide the gas phase molecules, and the TS Labels, together\n",
    "#with a list containing the labels of the graph nodes (intermediates) to generate\n",
    "#the graph analysis. That is: find the different branches of the mechanism that leads\n",
    "#from the first node (\"Pd\" in this case) to the last intemediate (\"CH3COCH3 in this\n",
    "#case\")\n",
    "stoich_mat = ADA.get_stoich_mat(Labels, gas_Labels, TS_Labels, [Labels[0], Labels[-1]], 4)"
   ]
  },
  {
   "cell_type": "code",
   "execution_count": 7,
   "metadata": {},
   "outputs": [
    {
     "data": {
      "text/html": [
       "<div>\n",
       "<style scoped>\n",
       "    .dataframe tbody tr th:only-of-type {\n",
       "        vertical-align: middle;\n",
       "    }\n",
       "\n",
       "    .dataframe tbody tr th {\n",
       "        vertical-align: top;\n",
       "    }\n",
       "\n",
       "    .dataframe thead th {\n",
       "        text-align: right;\n",
       "    }\n",
       "</style>\n",
       "<table border=\"1\" class=\"dataframe\">\n",
       "  <thead>\n",
       "    <tr style=\"text-align: right;\">\n",
       "      <th></th>\n",
       "      <th>R1</th>\n",
       "      <th>R2</th>\n",
       "      <th>R3</th>\n",
       "      <th>R4</th>\n",
       "      <th>R5</th>\n",
       "      <th>R6</th>\n",
       "      <th>R7</th>\n",
       "      <th>R8</th>\n",
       "      <th>R9</th>\n",
       "    </tr>\n",
       "  </thead>\n",
       "  <tbody>\n",
       "    <tr>\n",
       "      <th>i0</th>\n",
       "      <td>-1.0</td>\n",
       "      <td>-1.0</td>\n",
       "      <td>0.0</td>\n",
       "      <td>0.0</td>\n",
       "      <td>0.0</td>\n",
       "      <td>0.0</td>\n",
       "      <td>0.0</td>\n",
       "      <td>1.0</td>\n",
       "      <td>0.0</td>\n",
       "    </tr>\n",
       "    <tr>\n",
       "      <th>i1</th>\n",
       "      <td>1.0</td>\n",
       "      <td>0.0</td>\n",
       "      <td>0.0</td>\n",
       "      <td>0.0</td>\n",
       "      <td>-1.0</td>\n",
       "      <td>0.0</td>\n",
       "      <td>0.0</td>\n",
       "      <td>0.0</td>\n",
       "      <td>0.0</td>\n",
       "    </tr>\n",
       "    <tr>\n",
       "      <th>i2</th>\n",
       "      <td>0.0</td>\n",
       "      <td>1.0</td>\n",
       "      <td>-1.0</td>\n",
       "      <td>-1.0</td>\n",
       "      <td>0.0</td>\n",
       "      <td>0.0</td>\n",
       "      <td>0.0</td>\n",
       "      <td>0.0</td>\n",
       "      <td>0.0</td>\n",
       "    </tr>\n",
       "    <tr>\n",
       "      <th>i3</th>\n",
       "      <td>0.0</td>\n",
       "      <td>0.0</td>\n",
       "      <td>1.0</td>\n",
       "      <td>0.0</td>\n",
       "      <td>0.0</td>\n",
       "      <td>-1.0</td>\n",
       "      <td>0.0</td>\n",
       "      <td>0.0</td>\n",
       "      <td>0.0</td>\n",
       "    </tr>\n",
       "    <tr>\n",
       "      <th>i4</th>\n",
       "      <td>0.0</td>\n",
       "      <td>0.0</td>\n",
       "      <td>0.0</td>\n",
       "      <td>1.0</td>\n",
       "      <td>0.0</td>\n",
       "      <td>0.0</td>\n",
       "      <td>-1.0</td>\n",
       "      <td>0.0</td>\n",
       "      <td>0.0</td>\n",
       "    </tr>\n",
       "    <tr>\n",
       "      <th>i5</th>\n",
       "      <td>0.0</td>\n",
       "      <td>0.0</td>\n",
       "      <td>0.0</td>\n",
       "      <td>0.0</td>\n",
       "      <td>1.0</td>\n",
       "      <td>1.0</td>\n",
       "      <td>1.0</td>\n",
       "      <td>0.0</td>\n",
       "      <td>-1.0</td>\n",
       "    </tr>\n",
       "    <tr>\n",
       "      <th>i6</th>\n",
       "      <td>0.0</td>\n",
       "      <td>0.0</td>\n",
       "      <td>0.0</td>\n",
       "      <td>0.0</td>\n",
       "      <td>0.0</td>\n",
       "      <td>0.0</td>\n",
       "      <td>0.0</td>\n",
       "      <td>-1.0</td>\n",
       "      <td>1.0</td>\n",
       "    </tr>\n",
       "    <tr>\n",
       "      <th>CH3CHOHCH3(g)</th>\n",
       "      <td>0.0</td>\n",
       "      <td>-1.0</td>\n",
       "      <td>0.0</td>\n",
       "      <td>0.0</td>\n",
       "      <td>0.0</td>\n",
       "      <td>0.0</td>\n",
       "      <td>0.0</td>\n",
       "      <td>0.0</td>\n",
       "      <td>0.0</td>\n",
       "    </tr>\n",
       "    <tr>\n",
       "      <th>H2(g)</th>\n",
       "      <td>-1.0</td>\n",
       "      <td>0.0</td>\n",
       "      <td>0.0</td>\n",
       "      <td>0.0</td>\n",
       "      <td>0.0</td>\n",
       "      <td>0.0</td>\n",
       "      <td>0.0</td>\n",
       "      <td>0.0</td>\n",
       "      <td>1.0</td>\n",
       "    </tr>\n",
       "    <tr>\n",
       "      <th>CH3COCH3(g)</th>\n",
       "      <td>0.0</td>\n",
       "      <td>0.0</td>\n",
       "      <td>0.0</td>\n",
       "      <td>0.0</td>\n",
       "      <td>-1.0</td>\n",
       "      <td>0.0</td>\n",
       "      <td>0.0</td>\n",
       "      <td>1.0</td>\n",
       "      <td>0.0</td>\n",
       "    </tr>\n",
       "  </tbody>\n",
       "</table>\n",
       "</div>"
      ],
      "text/plain": [
       "                R1   R2   R3   R4   R5   R6   R7   R8   R9\n",
       "i0            -1.0 -1.0  0.0  0.0  0.0  0.0  0.0  1.0  0.0\n",
       "i1             1.0  0.0  0.0  0.0 -1.0  0.0  0.0  0.0  0.0\n",
       "i2             0.0  1.0 -1.0 -1.0  0.0  0.0  0.0  0.0  0.0\n",
       "i3             0.0  0.0  1.0  0.0  0.0 -1.0  0.0  0.0  0.0\n",
       "i4             0.0  0.0  0.0  1.0  0.0  0.0 -1.0  0.0  0.0\n",
       "i5             0.0  0.0  0.0  0.0  1.0  1.0  1.0  0.0 -1.0\n",
       "i6             0.0  0.0  0.0  0.0  0.0  0.0  0.0 -1.0  1.0\n",
       "CH3CHOHCH3(g)  0.0 -1.0  0.0  0.0  0.0  0.0  0.0  0.0  0.0\n",
       "H2(g)         -1.0  0.0  0.0  0.0  0.0  0.0  0.0  0.0  1.0\n",
       "CH3COCH3(g)    0.0  0.0  0.0  0.0 -1.0  0.0  0.0  1.0  0.0"
      ]
     },
     "execution_count": 7,
     "metadata": {},
     "output_type": "execute_result"
    }
   ],
   "source": [
    "stoich_mat"
   ]
  },
  {
   "cell_type": "markdown",
   "metadata": {},
   "source": [
    "# 5. Generate the energetic pathway"
   ]
  },
  {
   "cell_type": "code",
   "execution_count": 8,
   "metadata": {
    "scrolled": true
   },
   "outputs": [
    {
     "name": "stdout",
     "output_type": "stream",
     "text": [
      "Frequency list saved on ../../tests/Co_0001_iPrOH/Slab/Freq/freq.txt\n",
      "Energy summary at T = 418.00 K\n",
      "===============================\n",
      "Potential energy: -248.94770045 eV\n",
      "ZPE correction: 0.6622325335000001 eV\n",
      "Total Cv: 1.3648745797324187 eV/K\n",
      "U: -246.92059333676758 eV\n",
      "S: 0.006903680714148645 eV/K\n",
      "F: -249.80633187528173 eV\n",
      "===============================\n",
      "Energy summary saved at ../../tests/Co_0001_iPrOH/Slab/Freq/energy_summary_None.txt\n",
      "Frequency list saved on ../../tests/Co_0001_iPrOH/H/Freq/freq.txt\n",
      "Energy summary at T = 418.00 K\n",
      "===============================\n",
      "Potential energy: -252.88050363 eV\n",
      "ZPE correction: 0.8495343675000001 eV\n",
      "Total Cv: 1.3726422435281795 eV/K\n",
      "U: -250.6583270189718 eV\n",
      "S: 0.006848503576165825 eV/K\n",
      "F: -253.5210015138091 eV\n",
      "===============================\n",
      "Energy summary saved at ../../tests/Co_0001_iPrOH/H/Freq/energy_summary_None.txt\n",
      "Frequency list saved on ../../tests/Co_0001_iPrOH/CH3CHOHCH3/Freq/freq.txt\n",
      "Energy summary at T = 418.00 K\n",
      "===============================\n",
      "Potential energy: -313.37590867 eV\n",
      "ZPE correction: 3.5368572134999994 eV\n",
      "Total Cv: 1.7030891220143198 eV/K\n",
      "U: -308.13596233448567 eV\n",
      "S: 0.008673697630635848 eV/K\n",
      "F: -311.76156794409144 eV\n",
      "===============================\n",
      "Energy summary saved at ../../tests/Co_0001_iPrOH/CH3CHOHCH3/Freq/energy_summary_None.txt\n",
      "Frequency list saved on ../../tests/Co_0001_iPrOH/CH3COHCH3/Freq/freq.txt\n",
      "Energy summary at T = 418.00 K\n",
      "===============================\n",
      "Potential energy: -309.05238307 eV\n",
      "ZPE correction: 3.1969129209999996 eV\n",
      "Total Cv: 1.6784149460954936 eV/K\n",
      "U: -304.17705520290457 eV\n",
      "S: 0.008439788445688802 eV/K\n",
      "F: -307.7048867732025 eV\n",
      "===============================\n",
      "Energy summary saved at ../../tests/Co_0001_iPrOH/CH3COHCH3/Freq/energy_summary_None.txt\n",
      "Frequency list saved on ../../tests/Co_0001_iPrOH/CH3CHOCH3/Freq/freq.txt\n",
      "Energy summary at T = 418.00 K\n",
      "===============================\n",
      "Potential energy: -310.25991634 eV\n",
      "ZPE correction: 3.2608892704999977 eV\n",
      "Total Cv: 1.6595605592328424 eV/K\n",
      "U: -305.3394665102672 eV\n",
      "S: 0.008342459038667198 eV/K\n",
      "F: -308.8266143884301 eV\n",
      "===============================\n",
      "Energy summary saved at ../../tests/Co_0001_iPrOH/CH3CHOCH3/Freq/energy_summary_None.txt\n",
      "Frequency list saved on ../../tests/Co_0001_iPrOH/CH3COCH3/Freq/freq.txt\n",
      "Energy summary at T = 418.00 K\n",
      "===============================\n",
      "Potential energy: -305.85850798 eV\n",
      "ZPE correction: 2.906256253 eV\n",
      "Total Cv: 1.645781759804618 eV/K\n",
      "U: -301.3064699671954 eV\n",
      "S: 0.008150651182837308 eV/K\n",
      "F: -304.7134421616214 eV\n",
      "===============================\n",
      "Energy summary saved at ../../tests/Co_0001_iPrOH/CH3COCH3/Freq/energy_summary_None.txt\n",
      "Frequency list saved on ../../tests/Co_0001_iPrOH/CH3COCH3/Freq/freq.txt\n",
      "Energy summary at T = 418.00 K\n",
      "===============================\n",
      "Potential energy: -305.85850798 eV\n",
      "ZPE correction: 2.906256253 eV\n",
      "Total Cv: 1.645781759804618 eV/K\n",
      "U: -301.3064699671954 eV\n",
      "S: 0.008150651182837308 eV/K\n",
      "F: -304.7134421616214 eV\n",
      "===============================\n",
      "Energy summary saved at ../../tests/Co_0001_iPrOH/CH3COCH3/Freq/energy_summary_None.txt\n",
      "Frequency list saved on ../../tests/Co_0001_iPrOH/TS_CH/Freq/freq.txt\n",
      "Energy summary at T = 418.00 K\n",
      "===============================\n",
      "Potential energy: -312.32097655 eV\n",
      "ZPE correction: 3.3510956775000005 eV\n",
      "Total Cv: 1.6943293969762092 eV/K\n",
      "U: -307.2755514755238 eV\n",
      "S: 0.008499589657184515 eV/K\n",
      "F: -310.82837995222695 eV\n",
      "===============================\n",
      "Energy summary saved at ../../tests/Co_0001_iPrOH/TS_CH/Freq/energy_summary_None.txt\n",
      "Frequency list saved on ../../tests/Co_0001_iPrOH/TS_OH/Freq/freq.txt\n",
      "Energy summary at T = 418.00 K\n",
      "===============================\n",
      "Potential energy: -312.63704052 eV\n",
      "ZPE correction: 3.3539895090000016 eV\n",
      "Total Cv: 1.6852813189183609 eV/K\n",
      "U: -307.5977696920816 eV\n",
      "S: 0.008550508408066704 eV/K\n",
      "F: -311.1718822066535 eV\n",
      "===============================\n",
      "Energy summary saved at ../../tests/Co_0001_iPrOH/TS_OH/Freq/energy_summary_None.txt\n",
      "Frequency list saved on ../../tests/Co_0001_iPrOH/TS_CH_OH/Freq/freq.txt\n",
      "Energy summary at T = 418.00 K\n",
      "===============================\n",
      "Potential energy: -308.41600294 eV\n",
      "ZPE correction: 3.000667582500002 eV\n",
      "Total Cv: 1.6620981952167804 eV/K\n",
      "U: -303.7532371622832 eV\n",
      "S: 0.008263862684157524 eV/K\n",
      "F: -307.20753176426103 eV\n",
      "===============================\n",
      "Energy summary saved at ../../tests/Co_0001_iPrOH/TS_CH_OH/Freq/energy_summary_None.txt\n",
      "Frequency list saved on ../../tests/Co_0001_iPrOH/TS_OH_CH/Freq/freq.txt\n",
      "Energy summary at T = 418.00 K\n",
      "===============================\n",
      "Potential energy: -309.37150834 eV\n",
      "ZPE correction: 3.0603333825 eV\n",
      "Total Cv: 1.6602534627895786 eV/K\n",
      "U: -304.6509214947104 eV\n",
      "S: 0.008243266605472054 eV/K\n",
      "F: -308.09660693579775 eV\n",
      "===============================\n",
      "Energy summary saved at ../../tests/Co_0001_iPrOH/TS_OH_CH/Freq/energy_summary_None.txt\n",
      "Frequency list saved on ../../tests/Gas_phase/iPrOH/Freq/freq.txt\n",
      "Energy summary at T = 418.00 K\n",
      "===============================\n",
      "Potential energy: -63.70206215 eV\n",
      "ZPE correction: 2.8561160640000005 eV\n",
      "Total Cv: 0.2707287218467003 eV\n",
      "H: -60.53919692334373 eV\n",
      "The S_t contribution is: 0.0017293253265006495eV/K\n",
      "The S_r contribution is: 0.0011014763357079268eV/K\n",
      "The S_e contribution is: 0.0eV/K\n",
      "The S_v contribution is: 0.0006371596898526196 eV/K\n",
      "The S_p contribution is: -0.0eV/K\n",
      "S: 0.003467961352061196 eV/K\n",
      "G: -61.98880476850531 eV/K\n",
      "===============================\n",
      "Energy summary saved at ../../tests/Gas_phase/iPrOH/Freq/energy_summary_None.txt\n",
      "Frequency list saved on ../../tests/Gas_phase/H2/Freq/freq.txt\n",
      "Energy summary at T = 418.00 K\n",
      "===============================\n",
      "Potential energy: -6.75130747 eV\n",
      "ZPE correction: 0.2670140735 eV\n",
      "Total Cv: 0.0900512964908862 eV\n",
      "H: -6.358221659199546 eV\n",
      "The S_t contribution is: 0.001290510020401861eV/K\n",
      "The S_r contribution is: 0.00016340149661151664eV/K\n",
      "The S_e contribution is: 0.0eV/K\n",
      "The S_v contribution is: 4.966120790968192e-10 eV/K\n",
      "The S_p contribution is: -0.0eV/K\n",
      "S: 0.0014539120136254566 eV/K\n",
      "G: -6.9659568808949865 eV/K\n",
      "===============================\n",
      "Energy summary saved at ../../tests/Gas_phase/H2/Freq/energy_summary_None.txt\n",
      "Frequency list saved on ../../tests/Gas_phase/CH3COCH3/Freq/freq.txt\n",
      "Energy summary at T = 418.00 K\n",
      "===============================\n",
      "Potential energy: -56.06400343 eV\n",
      "ZPE correction: 2.2070347029999993 eV\n",
      "Total Cv: 0.253773689356527 eV\n",
      "H: -53.5671745968339 eV\n",
      "The S_t contribution is: 0.0017249147295508153eV/K\n",
      "The S_r contribution is: 0.0010313942161493178eV/K\n",
      "The S_e contribution is: 0.0eV/K\n",
      "The S_v contribution is: 0.000697105504565196 eV/K\n",
      "The S_p contribution is: -0.0eV/K\n",
      "S: 0.003453414450265329 eV/K\n",
      "G: -55.010701837044806 eV/K\n",
      "===============================\n",
      "Energy summary saved at ../../tests/Gas_phase/CH3COCH3/Freq/energy_summary_None.txt\n"
     ]
    },
    {
     "data": {
      "image/png": "[encoded data removed]",
      "text/plain": [
       "<Figure size 640x480 with 1 Axes>"
      ]
     },
     "metadata": {},
     "output_type": "display_data"
    }
   ],
   "source": [
    "#Generate the energy profile and gather the energies of the gas phase, the surface,\n",
    "#and the TS, and wrap all the energy information in the energy_dict free (Gibbs for\n",
    "#gas phase, Helmholtz for adsorbed species), the energy_dict_h (Enthalpy for gas,\n",
    "#internal energy for adsorbed intermediates) and energy_dict_s (entropies). Finally,\n",
    "#the energy paths found by the programm are also returned (paths_energy).\n",
    "\n",
    "#The energy is saved in the Output_energy and Output_energy_ref (automatic) files.\n",
    "Output_energy = \"g.mkm\"\n",
    "Res = ADA.export_energies(Output_energy)\n",
    "gas,surface,tss,energy_dict_free,energy_dict_h,energy_dict_s,paths_energy = Res"
   ]
  },
  {
   "cell_type": "code",
   "execution_count": 9,
   "metadata": {},
   "outputs": [
    {
     "data": {
      "text/plain": [
       "{'A_ts': [-310.82837995222695,\n",
       "  -311.1718822066535,\n",
       "  -307.20753176426103,\n",
       "  -308.09660693579775],\n",
       " 'U_ts': [-307.2755514755238,\n",
       "  -307.5977696920816,\n",
       "  -306.932347991883,\n",
       "  -307.8300323243102],\n",
       " 'S_ts': [0.008499589657184515,\n",
       "  0.008550508408066704,\n",
       "  0.008263862684157524,\n",
       "  0.008243266605472054],\n",
       " 'Ep_ts': [-312.32097655, -312.63704052, -308.41600294, -309.37150834]}"
      ]
     },
     "execution_count": 9,
     "metadata": {},
     "output_type": "execute_result"
    }
   ],
   "source": [
    "tss"
   ]
  },
  {
   "cell_type": "code",
   "execution_count": 10,
   "metadata": {},
   "outputs": [
    {
     "data": {
      "text/plain": [
       "{'A': [-249.80633187528173,\n",
       "  -253.5210015138091,\n",
       "  -311.76156794409144,\n",
       "  -307.7048867732025,\n",
       "  -308.8266143884301,\n",
       "  -304.7134421616214,\n",
       "  -304.7134421616214],\n",
       " 'U': [-246.92059333676758,\n",
       "  -250.6583270189718,\n",
       "  -308.13596233448567,\n",
       "  -304.17705520290457,\n",
       "  -305.3394665102672,\n",
       "  -301.3064699671954,\n",
       "  -301.3064699671954],\n",
       " 'S_a': [0.006903680714148645,\n",
       "  0.006848503576165825,\n",
       "  0.008673697630635848,\n",
       "  0.008439788445688802,\n",
       "  0.008342459038667198,\n",
       "  0.008150651182837308,\n",
       "  0.008150651182837308],\n",
       " 'Ep_s': [-248.94770045,\n",
       "  -252.88050363,\n",
       "  -313.37590867,\n",
       "  -309.05238307,\n",
       "  -310.25991634,\n",
       "  -305.85850798,\n",
       "  -305.85850798]}"
      ]
     },
     "execution_count": 10,
     "metadata": {},
     "output_type": "execute_result"
    }
   ],
   "source": [
    "surface"
   ]
  },
  {
   "cell_type": "code",
   "execution_count": 11,
   "metadata": {},
   "outputs": [
    {
     "data": {
      "text/plain": [
       "{'G': [-61.98880476850531, -6.9659568808949865, -55.010701837044806],\n",
       " 'H': [-60.53919692334373, -6.358221659199546, -53.5671745968339],\n",
       " 'S_g': [0.003467961352061196, 0.0014539120136254566, 0.003453414450265329],\n",
       " 'ElE_g': [-63.70206215, -6.75130747, -56.06400343]}"
      ]
     },
     "execution_count": 11,
     "metadata": {},
     "output_type": "execute_result"
    }
   ],
   "source": [
    "gas"
   ]
  },
  {
   "cell_type": "code",
   "execution_count": 12,
   "metadata": {
    "scrolled": true
   },
   "outputs": [
    {
     "data": {
      "text/plain": [
       "{'Co': -249.80633187528173,\n",
       " '2H': -253.5210015138091,\n",
       " 'CH3CHOHCH3': -311.76156794409144,\n",
       " 'CH3COHCH3': -307.7048867732025,\n",
       " 'CH3CHOCH3': -308.8266143884301,\n",
       " 'CH3COCH3_2H': -304.7134421616214,\n",
       " 'CH3COCH3': -304.7134421616214,\n",
       " 'TSCH3CHOHCH3,CH3COHCH3': -310.82837995222695,\n",
       " 'TSCH3CHOHCH3,CH3CHOCH3': -311.1718822066535,\n",
       " 'TSCH3COHCH3,CH3COCH3_2H': -307.20753176426103,\n",
       " 'TSCH3CHOCH3,CH3COCH3_2H': -308.09660693579775,\n",
       " 'CH3CHOHCH3(g)': -61.98880476850531,\n",
       " 'H2(g)': -6.9659568808949865,\n",
       " 'CH3COCH3(g)': -55.010701837044806}"
      ]
     },
     "execution_count": 12,
     "metadata": {},
     "output_type": "execute_result"
    }
   ],
   "source": [
    "energy_dict_free\n"
   ]
  },
  {
   "cell_type": "code",
   "execution_count": 13,
   "metadata": {},
   "outputs": [
    {
     "data": {
      "text/plain": [
       "{'Co': 0.006903680714148645,\n",
       " '2H': 0.006848503576165825,\n",
       " 'CH3CHOHCH3': 0.008673697630635848,\n",
       " 'CH3COHCH3': 0.008439788445688802,\n",
       " 'CH3CHOCH3': 0.008342459038667198,\n",
       " 'CH3COCH3_2H': 0.008150651182837308,\n",
       " 'CH3COCH3': 0.008150651182837308,\n",
       " 'TSCH3CHOHCH3,CH3COHCH3': 0.008499589657184515,\n",
       " 'TSCH3CHOHCH3,CH3CHOCH3': 0.008550508408066704,\n",
       " 'TSCH3COHCH3,CH3COCH3_2H': 0.008263862684157524,\n",
       " 'TSCH3CHOCH3,CH3COCH3_2H': 0.008243266605472054,\n",
       " 'CH3CHOHCH3(g)': 0.003467961352061196,\n",
       " 'H2(g)': 0.0014539120136254566,\n",
       " 'CH3COCH3(g)': 0.003453414450265329}"
      ]
     },
     "execution_count": 13,
     "metadata": {},
     "output_type": "execute_result"
    }
   ],
   "source": [
    "energy_dict_s"
   ]
  },
  {
   "cell_type": "code",
   "execution_count": 14,
   "metadata": {},
   "outputs": [
    {
     "data": {
      "text/plain": [
       "[{'Co': 0.0,\n",
       "  'CH3CHOHCH3': 0.03356869969559284,\n",
       "  'TSCH3CHOHCH3,CH3COHCH3': 0.9667566915600219,\n",
       "  'CH3COHCH3': 0.37558023205724567,\n",
       "  'TSCH3COHCH3,CH3COCH3_2H': 0.8729352409986859,\n",
       "  'CH3COCH3_2H': -0.3476447948891064,\n",
       "  'CH3COCH3': 0.1035915507051186},\n",
       " {'Co': 0.0,\n",
       "  'CH3CHOHCH3': 0.03356869969559284,\n",
       "  'TSCH3CHOHCH3,CH3CHOCH3': 0.6232544371335393,\n",
       "  'CH3CHOCH3': -0.7461473831704097,\n",
       "  'TSCH3CHOCH3,CH3COCH3_2H': -0.016139930538201952,\n",
       "  'CH3COCH3_2H': -0.3476447948891064,\n",
       "  'CH3COCH3': 0.1035915507051186}]"
      ]
     },
     "execution_count": 14,
     "metadata": {},
     "output_type": "execute_result"
    }
   ],
   "source": [
    "paths_energy"
   ]
  },
  {
   "cell_type": "code",
   "execution_count": 15,
   "metadata": {},
   "outputs": [
    {
     "data": {
      "text/plain": [
       "{'Co': {'Empty': 1, 'C': '', 'H': '', 'O': ''},\n",
       " '2H': {'Empty': '', 'C': '', 'H': [2, 2], 'O': ''},\n",
       " 'CH3CHOHCH3': {'Empty': '',\n",
       "  'C': ['C', 'C', 'C', 'C', 'H', 'H', 'H', 'H', 'H', 'H', 'H', 'O', 0, 3],\n",
       "  'H': ['C', 'C', 'C', 'C', 'C', 'C', 'C', 'O', 0, 8],\n",
       "  'O': ['C', 'H', 0, 1]},\n",
       " 'CH3COHCH3': {'Empty': '',\n",
       "  'C': ['C', 'C', 'C', 'C', 'H', 'H', 'H', 'H', 'H', 'H', 'O', 0, 3],\n",
       "  'H': ['C', 'C', 'C', 'C', 'C', 'C', 'O', 1, 8],\n",
       "  'O': ['C', 'H', 0, 1]},\n",
       " 'CH3CHOCH3': {'Empty': '',\n",
       "  'C': ['C', 'C', 'C', 'C', 'H', 'H', 'H', 'H', 'H', 'H', 'H', 'O', 0, 3],\n",
       "  'H': ['C', 'C', 'C', 'C', 'C', 'C', 'C', 1, 8],\n",
       "  'O': ['C', 0, 1]},\n",
       " 'CH3COCH3_2H': {'Empty': '',\n",
       "  'C': ['C', 'C', 'C', 'C', 'H', 'H', 'H', 'H', 'H', 'H', 'O', 0, 3],\n",
       "  'H': ['C', 'C', 'C', 'C', 'C', 'C', 2, 8],\n",
       "  'O': ['C', 0, 1]},\n",
       " 'CH3COCH3': {'Empty': '',\n",
       "  'C': ['C', 'C', 'C', 'C', 'H', 'H', 'H', 'H', 'H', 'H', 'O', 0, 3],\n",
       "  'H': ['C', 'C', 'C', 'C', 'C', 'C', 0, 6],\n",
       "  'O': ['C', 0, 1]},\n",
       " 'CH3CHOHCH3(g)': {'Empty': '',\n",
       "  'C': ['C', 'C', 'C', 'C', 'H', 'H', 'H', 'H', 'H', 'H', 'H', 'O', 0, 3],\n",
       "  'H': ['C', 'C', 'C', 'C', 'C', 'C', 'C', 'O', 0, 8],\n",
       "  'O': ['C', 'H', 0, 1],\n",
       "  'Label': 'CH3CHOHCH3(g)'},\n",
       " 'H2(g)': {'Empty': '', 'C': '', 'H': [2, 2], 'O': '', 'Label': 'H2(g)'},\n",
       " 'CH3COCH3(g)': {'Empty': '',\n",
       "  'C': ['C', 'C', 'C', 'C', 'H', 'H', 'H', 'H', 'H', 'H', 'O', 0, 3],\n",
       "  'H': ['C', 'C', 'C', 'C', 'C', 'C', 0, 6],\n",
       "  'O': ['C', 0, 1],\n",
       "  'Label': 'CH3COCH3(g)'},\n",
       " 'TSCH3CHOHCH3,CH3COHCH3': {'Empty': '',\n",
       "  'C': ['C', 'C', 'C', 'C', 'H', 'H', 'H', 'H', 'H', 'H', 'O', 0, 3],\n",
       "  'H': ['C', 'C', 'C', 'C', 'C', 'C', 'O', 1, 8],\n",
       "  'O': ['C', 'H', 0, 1],\n",
       "  'Label': 'CH'},\n",
       " 'TSCH3CHOHCH3,CH3CHOCH3': {'Empty': '',\n",
       "  'C': ['C', 'C', 'C', 'C', 'H', 'H', 'H', 'H', 'H', 'H', 'H', 'O', 0, 3],\n",
       "  'H': ['C', 'C', 'C', 'C', 'C', 'C', 'C', 'O', 0, 8],\n",
       "  'O': ['C', 'H', 0, 1],\n",
       "  'Label': 'OH'},\n",
       " 'TSCH3COHCH3,CH3COCH3_2H': {'Empty': '',\n",
       "  'C': ['C', 'C', 'C', 'C', 'H', 'H', 'H', 'H', 'H', 'H', 'O', 0, 3],\n",
       "  'H': ['C', 'C', 'C', 'C', 'C', 'C', 'O', 1, 8],\n",
       "  'O': ['C', 'H', 0, 1],\n",
       "  'Label': 'CH-OH'},\n",
       " 'TSCH3CHOCH3,CH3COCH3_2H': {'Empty': '',\n",
       "  'C': ['C', 'C', 'C', 'C', 'H', 'H', 'H', 'H', 'H', 'H', 'H', 'O', 0, 3],\n",
       "  'H': ['C', 'C', 'C', 'C', 'C', 'C', 'C', 1, 8],\n",
       "  'O': ['C', 0, 1],\n",
       "  'Label': 'OH-CH'}}"
      ]
     },
     "execution_count": 15,
     "metadata": {},
     "output_type": "execute_result"
    }
   ],
   "source": [
    "ADA.dict_complete"
   ]
  },
  {
   "cell_type": "code",
   "execution_count": 16,
   "metadata": {},
   "outputs": [
    {
     "data": {
      "text/plain": [
       "[['Co', '+', 'H2(g)', '->', '2H'],\n",
       " ['Co', '+', 'CH3CHOHCH3(g)', '->', 'CH3CHOHCH3'],\n",
       " ['CH3CHOHCH3 + Co', '->', 'CH3COHCH3 + 1H'],\n",
       " ['CH3CHOHCH3 + Co', '->', 'CH3CHOCH3 + 1H'],\n",
       " ['2H', '+', 'CH3COCH3(g)', '->', 'CH3COCH3_2H'],\n",
       " ['CH3COHCH3 + Co', '->', 'CH3COCH3_2H + 1H'],\n",
       " ['CH3CHOCH3 + Co', '->', 'CH3COCH3_2H + 1H'],\n",
       " ['CH3COCH3', '->', 'Co', '+', 'CH3COCH3(g)'],\n",
       " ['CH3COCH3_2H', '->', 'CH3COCH3', '+', 'H2(g)']]"
      ]
     },
     "execution_count": 16,
     "metadata": {},
     "output_type": "execute_result"
    }
   ],
   "source": [
    "#Generate the input for generating the OpenFOAM Mechanism\n",
    "Path_to_human_readeable_reactions = \"Human_readable_reactions.txt\"\n",
    "ADA.OpenFOAM_mechanism(Path_to_human_readeable_reactions)"
   ]
  },
  {
   "cell_type": "code",
   "execution_count": 17,
   "metadata": {
    "scrolled": true
   },
   "outputs": [
    {
     "data": {
      "text/plain": [
       "[['Co',\n",
       "  'CH3CHOHCH3',\n",
       "  'TSCH3CHOHCH3,CH3COHCH3',\n",
       "  'CH3COHCH3',\n",
       "  'TSCH3COHCH3,CH3COCH3_2H',\n",
       "  'CH3COCH3_2H',\n",
       "  'CH3COCH3'],\n",
       " ['Co',\n",
       "  'CH3CHOHCH3',\n",
       "  'TSCH3CHOHCH3,CH3CHOCH3',\n",
       "  'CH3CHOCH3',\n",
       "  'TSCH3CHOCH3,CH3COCH3_2H',\n",
       "  'CH3COCH3_2H',\n",
       "  'CH3COCH3']]"
      ]
     },
     "execution_count": 17,
     "metadata": {},
     "output_type": "execute_result"
    }
   ],
   "source": [
    "#Visualize the reactive paths\n",
    "ADA.graph_paths"
   ]
  },
  {
   "cell_type": "code",
   "execution_count": 18,
   "metadata": {},
   "outputs": [
    {
     "data": {
      "text/plain": [
       "({'i0': ['i1', 'i2'],\n",
       "  'i1': ['i0'],\n",
       "  'i2': ['i0', 'i3'],\n",
       "  'i6': ['i5'],\n",
       "  'i5': ['i3', 'i4'],\n",
       "  'i3': ['i2', 'i5'],\n",
       "  'i4': ['i5']},\n",
       " {'i0': 0,\n",
       "  'i1': 0,\n",
       "  'i2': 0,\n",
       "  'i3': 0,\n",
       "  'i5': 0,\n",
       "  'i4': 0,\n",
       "  'i6': 306.932347991883})"
      ]
     },
     "execution_count": 18,
     "metadata": {},
     "output_type": "execute_result"
    }
   ],
   "source": [
    "#Use the graph analysis method\n",
    "ADA.graph_analysis(\"i0\")"
   ]
  }
 ],
 "metadata": {
  "kernelspec": {
   "display_name": "Python 3 (ipykernel)",
   "language": "python",
   "name": "python3"
  },
  "language_info": {
   "codemirror_mode": {
    "name": "ipython",
    "version": 3
   },
   "file_extension": ".py",
   "mimetype": "text/x-python",
   "name": "python",
   "nbconvert_exporter": "python",
   "pygments_lexer": "ipython3",
   "version": "3.10.9"
  }
 },
 "nbformat": 4,
 "nbformat_minor": 2
}
