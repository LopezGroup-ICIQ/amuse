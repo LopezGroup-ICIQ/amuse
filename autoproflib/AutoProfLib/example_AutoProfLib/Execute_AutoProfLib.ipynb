{
 "cells": [
  {
   "cell_type": "markdown",
   "metadata": {},
   "source": [
    "# 1. Import the library"
   ]
  },
  {
   "cell_type": "code",
   "execution_count": null,
   "metadata": {},
   "outputs": [],
   "source": [
    "import AutoProfLib as APL"
   ]
  },
  {
   "cell_type": "markdown",
   "metadata": {},
   "source": [
    "# 2. Initialize the AutoProfLib"
   ]
  },
  {
   "cell_type": "markdown",
   "metadata": {},
   "source": [
    "## 2.1 Prepare the input"
   ]
  },
  {
   "cell_type": "code",
   "execution_count": null,
   "metadata": {},
   "outputs": [],
   "source": [
    "#Paths: list of strings or string containing the paths or the path to the directory \n",
    "#where the regular and the frequency calculations outputs are stored. \n",
    "#The program assumes that exists a folder inside the paths provided by the user named\n",
    "#FREQ or ../Freq (thus, the frequency directories are outside the work_directory and \n",
    "#its name is Freq), in which the frequency calculations are stored\n",
    "path_to_surf_intermediates = [\"../../tests/Co_0001_iPrOH/Slab\",\n",
    "                             \"../../tests/Co_0001_iPrOH/H\",\n",
    "                \"../../tests/Co_0001_iPrOH/CH3CHOHCH3\", \n",
    "                \"../../tests/Co_0001_iPrOH/CH3COHCH3\",\n",
    "                   \"../../tests/Co_0001_iPrOH/CH3CHOCH3\",\n",
    "                   \"../../tests/Co_0001_iPrOH/CH3COCH3\",\n",
    "                  \"../../tests/Co_0001_iPrOH/CH3COCH3\"]\n",
    "\n",
    "path_to_gas = [\"../../tests/Gas_phase/iPrOH\", \n",
    "                   \"../../tests/Gas_phase/H2\", \n",
    "                   \"../../tests/Gas_phase/CH3COCH3\"]\n",
    "path_to_ts = [\"../../tests/Co_0001_iPrOH/TS_CH\", \n",
    "                  \"../../tests/Co_0001_iPrOH/TS_OH\",\n",
    "                 \"../../tests/Co_0001_iPrOH/TS_CH_OH\", \n",
    "                  \"../../tests/Co_0001_iPrOH/TS_OH_CH\"]"
   ]
  },
  {
   "cell_type": "code",
   "execution_count": null,
   "metadata": {},
   "outputs": [],
   "source": [
    "#Geometries, frequency treatment, spin, atoms added, PBC instructions \n",
    "#and reference instructions.\n",
    "\n",
    "#list of strings or None string containing the geometry of the molecules or molecule \n",
    "#stored in the paths. \n",
    "#It is only relevant for gas phase molecules (see Gibbs method).\n",
    "surf_geometry = None\n",
    "gas_geometry = [\"nonlinear\", \"linear\", \"nonlinear\"]\n",
    "#list containing the frequencies process options (see Gibbs and Helmholtz methods\n",
    "#in the AutoProfLib user guide for further information).\n",
    "#The elements of the list should be:\n",
    "#0.\tProcess option flag: string. The accepted keys are Erase, Substitute \n",
    "#(default option) and Grimme.\n",
    "#1.\tMinimum frequency threshold: float indicating the minimum threshold from \n",
    "#which the Erase or the Substitute options will be applied.\n",
    "#2.\tApplication of the extra Grimme option on the rotational entropy: True to activate\n",
    "#it, False otherwise. \n",
    "#This flag will only make some effect if the first element of max_freq list is Grimme\n",
    "frequency_pre_process = [\"Erase\", None, False]\n",
    "#spin: list of int or int with the spin of the molecule. \n",
    "#This variable is only important for gas phase molecules (see Gibbs method in\n",
    "#the User's guide).\n",
    "spin = 0\n",
    "\n",
    "#Define the file type\n",
    "file_type = \"CONTCAR\"\n",
    "#Wrapp-up all the information in a list\n",
    "surf_phase = [path_to_surf_intermediates, \n",
    "                  surf_geometry, frequency_pre_process, spin, file_type]\n",
    "gas_phase = [path_to_gas, gas_geometry, frequency_pre_process, spin, file_type]\n",
    "\n",
    "TSS = [path_to_ts, surf_geometry, frequency_pre_process, spin, file_type]\n",
    "#add_atom: list of lists containing the information to add an atom to specific \n",
    "#coordinates. This utility is used to avoid problems related to mass conservation, \n",
    "#which affects to the mechanism.\n",
    "#The items of the list are:\n",
    "#0.\tList containing two items list (int) for each atom added. \n",
    "#The first item of the list indicates the phase in which the atom will be added \n",
    "#(0: adsorbed intermediates, 1: gas phase, and 2: TSs). \n",
    "#The second item indicates the index of the specie or state in which the new atom \n",
    "#will be added.\n",
    "#1.\tList containing four items list for each atom to be added. \n",
    "#The first element is the label of the atom (string), and the other 3 are the \n",
    "#corresponding x, y, and z coordinates of the atom.\n",
    "\n",
    "add_atom =  [   [[0,1], [0,3], [0,4], [0,5], [0,5], [2, 2], [2, 3] ],  \n",
    "                 [ [\"H\",5.598002346788653,5.2364688867555407,12.62224206687647],\n",
    "                  [\"H\",5.598002346788653,5.2364688867555407,12.62224206687647] ,\n",
    "                [\"H\",5.598002346788653,5.2364688867555407,12.62224206687647],\n",
    "                [\"H\",5.598002346788653,5.2364688867555407,12.62224206687647],\n",
    "                [\"H\",5.598002346788653,5.2364688867555407,12.62224206687647],\n",
    "                [\"H\",12.598002346788653,5.2364688867555407,12.62224206687647],\n",
    "                [\"H\",12.598002346788653,5.2364688867555407,12.62224206687647] ] ]\n",
    "#use_pbc: list that sets the control to use the PBC in the PreProcessor class. \n",
    "#The items of the use_pbc list are:\n",
    "#0.\tA bool. If is set as True, the PBC are applied.\n",
    "#1.\tThis item indicates to the program the structures in which the PBC will not \n",
    "#be applied. A list of lists (like the first item in add_atom input), \n",
    "#where each element is a list (int) containing two items. \n",
    "#The usage and the interpretation are the same than in the first element of the \n",
    "#add_atom input.\n",
    "use_pbc = [True, [[0, 5], [0, 6], [2,0],[2,1], [2,2]]]\n",
    "#reference: list containing the flags to reference the energy profile according to the user indications. The reference items are:\n",
    "#0.\tThe label of the surface state.\n",
    "#1.\tThe total number of surfaces that will be used.\n",
    "#2.\tThe gas phase reactive label.\n",
    "#3.\tThe gas phase product label.\n",
    "#4.\tThe supplementary adsorbed surface and gas phase list. \n",
    "#This list is used if an adsorbed intermediate (for instance, H*) is taken \n",
    "#into account in the reference. The first item is a bool, True if this list \n",
    "#should have effect (False otherwise), the second one is the label of the adsorbed \n",
    "#specie that will be taken into account in the reference, the third one is a bool \n",
    "#that indicates if this specie is a reactant (e.g in a hydrogenation example; then, \n",
    "#this item should be True) or a product (e.g in a dehydrogenation example; then, \n",
    "#this item should be False), and the fourth one is the label of the \n",
    "#gas phase specie (e.g H2(g)).\n",
    "\n",
    "ref = [\"Co\", 3, \"CH3CHOHCH3(g)\", 'CH3COCH3(g)', [True, \"2H\", False, 1, \"H2(g)\"]]\n"
   ]
  },
  {
   "cell_type": "code",
   "execution_count": null,
   "metadata": {},
   "outputs": [],
   "source": [
    "#Class initialization. T_P are the initial Temperature and Pressure conditions\n",
    "ADA = APL.AutoProfLib(surf_phase, gas_phase, TSS,add_atom, use_pbc,ref,T_P \n",
    "                      = [418, 1.0]) "
   ]
  },
  {
   "cell_type": "markdown",
   "metadata": {},
   "source": [
    "# 3. Generate the mechanism"
   ]
  },
  {
   "cell_type": "code",
   "execution_count": null,
   "metadata": {
    "scrolled": false
   },
   "outputs": [],
   "source": [
    "#Labels for the mechanism and the stoichiometric matrix\n",
    "Labels =[\"Co\", \"2H\", \"CH3CHOHCH3\", \"CH3COHCH3\", \"CH3CHOCH3\", \"CH3COCH3_2H\", \n",
    "        \"CH3COCH3\"]\n",
    "gas_Labels = [\"CH3CHOHCH3(g)\", \"H2(g)\", \"CH3COCH3(g)\"]\n",
    "\n",
    "TS_Labels = [\"CH\", \"OH\", \"CH-OH\", \"OH-CH\"]\n",
    "\n",
    "\n",
    "#Print the obtained connectivity dictionaries\n",
    "Labeled_dicts = ADA.get_labeled_dicts(Labels)\n",
    "for i in Labeled_dicts:\n",
    "    print(i)\n",
    "for j in ADA.gas_conn_dicts:\n",
    "    print(j)\n",
    "for k in ADA.TSs_conn_dicts:\n",
    "    print(k)\n",
    "\n",
    "#Generate the system adjacency matrix\n",
    "m = ADA.system_adjacency_matrix()\n",
    "#Generate the mechanism graph using the system adjacency matrix and the \n",
    "gr = ADA.make_mol_graphs(m, Labels)\n",
    "#Draw the mechanism as a graph\n",
    "ADA.show_graph_with_labels(m, Labels, \"./ADA_graph.png\")"
   ]
  },
  {
   "cell_type": "markdown",
   "metadata": {},
   "source": [
    "# 4. Generate the stoichiometric matrix"
   ]
  },
  {
   "cell_type": "code",
   "execution_count": null,
   "metadata": {},
   "outputs": [],
   "source": [
    "#Generate the stoichiometric matrix generates the stoichiometric matrix \n",
    "#(as a pandas Data Frame) and the following files: the rm.mkm, \n",
    "#the human_readeable_reactions.txt and the Stoich_mat.csv\n",
    "\n",
    "#The user should provide the gas phase molecules, and the TS Labels, together\n",
    "#with a list containing the labels of the graph nodes (intermediates) to generate\n",
    "#the graph analysis. That is: find the different branches of the mechanism that leads\n",
    "#from the first node (\"Pd\" in this case) to the last intemediate (\"CH3COCH3 in this\n",
    "#case\")\n",
    "stoich_mat = ADA.get_stoich_mat(Labels, gas_Labels, TS_Labels, [Labels[0], Labels[-1]], 4)"
   ]
  },
  {
   "cell_type": "code",
   "execution_count": null,
   "metadata": {},
   "outputs": [],
   "source": [
    "stoich_mat"
   ]
  },
  {
   "cell_type": "markdown",
   "metadata": {},
   "source": [
    "# 5. Generate the energetic pathway"
   ]
  },
  {
   "cell_type": "code",
   "execution_count": null,
   "metadata": {
    "scrolled": true
   },
   "outputs": [],
   "source": [
    "#Generate the energy profile and gather the energies of the gas phase, the surface,\n",
    "#and the TS, and wrap all the energy information in the energy_dict free (Gibbs for\n",
    "#gas phase, Helmholtz for adsorbed species), the energy_dict_h (Enthalpy for gas,\n",
    "#internal energy for adsorbed intermediates) and energy_dict_s (entropies). Finally,\n",
    "#the energy paths found by the programm are also returned (paths_energy).\n",
    "\n",
    "#The energy is saved in the Output_energy and Output_energy_ref (automatic) files.\n",
    "Output_energy = \"g.mkm\"\n",
    "Res = ADA.export_energies(Output_energy)\n",
    "gas,surface,tss,energy_dict_free,energy_dict_h,energy_dict_s,paths_energy = Res"
   ]
  },
  {
   "cell_type": "code",
   "execution_count": null,
   "metadata": {},
   "outputs": [],
   "source": [
    "tss"
   ]
  },
  {
   "cell_type": "code",
   "execution_count": null,
   "metadata": {},
   "outputs": [],
   "source": [
    "surface"
   ]
  },
  {
   "cell_type": "code",
   "execution_count": null,
   "metadata": {},
   "outputs": [],
   "source": [
    "gas"
   ]
  },
  {
   "cell_type": "code",
   "execution_count": null,
   "metadata": {
    "scrolled": true
   },
   "outputs": [],
   "source": [
    "energy_dict_free\n"
   ]
  },
  {
   "cell_type": "code",
   "execution_count": null,
   "metadata": {},
   "outputs": [],
   "source": [
    "energy_dict_s"
   ]
  },
  {
   "cell_type": "code",
   "execution_count": null,
   "metadata": {},
   "outputs": [],
   "source": [
    "paths_energy"
   ]
  },
  {
   "cell_type": "code",
   "execution_count": null,
   "metadata": {},
   "outputs": [],
   "source": [
    "ADA.dict_complete"
   ]
  },
  {
   "cell_type": "code",
   "execution_count": null,
   "metadata": {},
   "outputs": [],
   "source": [
    "#Generate the input for generating the OpenFOAM Mechanism\n",
    "Path_to_human_readeable_reactions = \"Human_readable_reactions.txt\"\n",
    "ADA.OpenFOAM_mechanism(Path_to_human_readeable_reactions)"
   ]
  },
  {
   "cell_type": "code",
   "execution_count": null,
   "metadata": {
    "scrolled": true
   },
   "outputs": [],
   "source": [
    "#Visualize the reactive paths\n",
    "ADA.graph_paths"
   ]
  },
  {
   "cell_type": "code",
   "execution_count": null,
   "metadata": {},
   "outputs": [],
   "source": [
    "#Use the graph analysis method\n",
    "ADA.graph_analysis(\"i0\")"
   ]
  }
 ],
 "metadata": {
  "kernelspec": {
   "display_name": "Python 3 (ipykernel)",
   "language": "python",
   "name": "python3"
  },
  "language_info": {
   "codemirror_mode": {
    "name": "ipython",
    "version": 3
   },
   "file_extension": ".py",
   "mimetype": "text/x-python",
   "name": "python",
   "nbconvert_exporter": "python",
   "pygments_lexer": "ipython3",
   "version": "3.9.17"
  }
 },
 "nbformat": 4,
 "nbformat_minor": 2
}
