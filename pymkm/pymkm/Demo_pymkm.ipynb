{
 "cells": [
  {
   "cell_type": "markdown",
   "id": "f97f9643",
   "metadata": {},
   "source": [
    "# Pymkm demo: CO2 hydrogenation to MeOH over Pd-In2O3 catalyst"
   ]
  },
  {
   "cell_type": "markdown",
   "id": "6d9e5e15",
   "metadata": {},
   "source": [
    "## MKM class import, object instance and attributes overview"
   ]
  },
  {
   "cell_type": "code",
   "execution_count": 1,
   "id": "0ef99e3b",
   "metadata": {
    "ExecuteTime": {
     "end_time": "2021-09-02T13:57:57.639188Z",
     "start_time": "2021-09-02T13:57:57.635708Z"
    }
   },
   "outputs": [],
   "source": [
    "import sys\n",
    "sys.path.insert(0, \"../\") \n",
    "\n",
    "from mkm import MKM"
   ]
  },
  {
   "cell_type": "code",
   "execution_count": 2,
   "id": "1bebbe9e",
   "metadata": {
    "ExecuteTime": {
     "end_time": "2021-09-02T13:58:13.534858Z",
     "start_time": "2021-09-02T13:58:13.529302Z"
    }
   },
   "outputs": [],
   "source": [
    "model = MKM('Pd-In2O3', 'Pd_In2O3_CPa/rm.mkm', 'Pd_In2O3_CPa/g.mkm', t_ref=553)"
   ]
  },
  {
   "cell_type": "markdown",
   "id": "a9660f7a",
   "metadata": {},
   "source": [
    "# Model exploration\n",
    "To investigate the characteristics of the system under study, several attributes can be easily inspected to check general information like number of elementary reactions, energetics, reaction network, etc."
   ]
  },
  {
   "cell_type": "code",
   "execution_count": 3,
   "id": "dce77be0",
   "metadata": {},
   "outputs": [
    {
     "name": "stdout",
     "output_type": "stream",
     "text": [
      "System: Pd-In2O3\n",
      "\n",
      "CO2 + 3H2 -> CH3OH + H2O\n",
      "CO2 + H2 -> CO + H2O\n",
      "\n",
      "Number of global reactions: 2\n",
      "Number of elementary reactions: 20\n",
      "Number of surface species: 17\n",
      "Number of gas species: 5\n",
      "\n"
     ]
    }
   ],
   "source": [
    "print(model)"
   ]
  },
  {
   "cell_type": "code",
   "execution_count": 4,
   "id": "6585f84b",
   "metadata": {},
   "outputs": [
    {
     "data": {
      "text/plain": [
       "array([0.  , 0.  , 0.  , 0.  , 1.  , 0.  , 1.56, 0.  , 1.82, 0.  , 0.  ,\n",
       "       1.77, 0.  , 0.68, 1.17, 0.35, 1.14, 1.15, 1.86, 0.49])"
      ]
     },
     "execution_count": 4,
     "metadata": {},
     "output_type": "execute_result"
    }
   ],
   "source": [
    "model.dh_barrier"
   ]
  },
  {
   "cell_type": "code",
   "execution_count": 5,
   "id": "01faf793",
   "metadata": {},
   "outputs": [
    {
     "data": {
      "text/html": [
       "<div>\n",
       "<style scoped>\n",
       "    .dataframe tbody tr th:only-of-type {\n",
       "        vertical-align: middle;\n",
       "    }\n",
       "\n",
       "    .dataframe tbody tr th {\n",
       "        vertical-align: top;\n",
       "    }\n",
       "\n",
       "    .dataframe thead th {\n",
       "        text-align: right;\n",
       "    }\n",
       "</style>\n",
       "<table border=\"1\" class=\"dataframe\">\n",
       "  <thead>\n",
       "    <tr style=\"text-align: right;\">\n",
       "      <th></th>\n",
       "      <th></th>\n",
       "      <th>DGR / eV</th>\n",
       "      <th>G_act / eV</th>\n",
       "      <th>G_act,rev / eV</th>\n",
       "    </tr>\n",
       "  </thead>\n",
       "  <tbody>\n",
       "    <tr>\n",
       "      <th>R1</th>\n",
       "      <th>ads</th>\n",
       "      <td>0.09</td>\n",
       "      <td>0.09</td>\n",
       "      <td>0.00</td>\n",
       "    </tr>\n",
       "    <tr>\n",
       "      <th>R2</th>\n",
       "      <th>ads</th>\n",
       "      <td>0.36</td>\n",
       "      <td>0.36</td>\n",
       "      <td>0.00</td>\n",
       "    </tr>\n",
       "    <tr>\n",
       "      <th>R3</th>\n",
       "      <th>ads</th>\n",
       "      <td>0.27</td>\n",
       "      <td>0.27</td>\n",
       "      <td>0.00</td>\n",
       "    </tr>\n",
       "    <tr>\n",
       "      <th>R4</th>\n",
       "      <th>ads</th>\n",
       "      <td>-0.00</td>\n",
       "      <td>0.00</td>\n",
       "      <td>0.00</td>\n",
       "    </tr>\n",
       "    <tr>\n",
       "      <th>R5</th>\n",
       "      <th>sur</th>\n",
       "      <td>-0.35</td>\n",
       "      <td>0.92</td>\n",
       "      <td>1.27</td>\n",
       "    </tr>\n",
       "    <tr>\n",
       "      <th>R6</th>\n",
       "      <th>ads</th>\n",
       "      <td>-0.41</td>\n",
       "      <td>0.00</td>\n",
       "      <td>0.41</td>\n",
       "    </tr>\n",
       "    <tr>\n",
       "      <th>R7</th>\n",
       "      <th>sur</th>\n",
       "      <td>0.78</td>\n",
       "      <td>1.55</td>\n",
       "      <td>0.77</td>\n",
       "    </tr>\n",
       "    <tr>\n",
       "      <th>R8</th>\n",
       "      <th>sur</th>\n",
       "      <td>0.10</td>\n",
       "      <td>0.10</td>\n",
       "      <td>0.00</td>\n",
       "    </tr>\n",
       "    <tr>\n",
       "      <th>R9</th>\n",
       "      <th>sur</th>\n",
       "      <td>1.80</td>\n",
       "      <td>1.80</td>\n",
       "      <td>0.00</td>\n",
       "    </tr>\n",
       "    <tr>\n",
       "      <th>R10</th>\n",
       "      <th>sur</th>\n",
       "      <td>-0.92</td>\n",
       "      <td>0.00</td>\n",
       "      <td>0.92</td>\n",
       "    </tr>\n",
       "    <tr>\n",
       "      <th>R11</th>\n",
       "      <th>ads</th>\n",
       "      <td>-0.15</td>\n",
       "      <td>0.00</td>\n",
       "      <td>0.15</td>\n",
       "    </tr>\n",
       "    <tr>\n",
       "      <th>R12</th>\n",
       "      <th>sur</th>\n",
       "      <td>1.43</td>\n",
       "      <td>1.43</td>\n",
       "      <td>0.00</td>\n",
       "    </tr>\n",
       "    <tr>\n",
       "      <th>R13</th>\n",
       "      <th>des</th>\n",
       "      <td>-1.75</td>\n",
       "      <td>0.00</td>\n",
       "      <td>1.75</td>\n",
       "    </tr>\n",
       "    <tr>\n",
       "      <th>R14</th>\n",
       "      <th>sur</th>\n",
       "      <td>-0.13</td>\n",
       "      <td>0.66</td>\n",
       "      <td>0.79</td>\n",
       "    </tr>\n",
       "    <tr>\n",
       "      <th>R15</th>\n",
       "      <th>sur</th>\n",
       "      <td>1.20</td>\n",
       "      <td>1.20</td>\n",
       "      <td>0.00</td>\n",
       "    </tr>\n",
       "    <tr>\n",
       "      <th>R16</th>\n",
       "      <th>des</th>\n",
       "      <td>-0.71</td>\n",
       "      <td>0.00</td>\n",
       "      <td>0.71</td>\n",
       "    </tr>\n",
       "    <tr>\n",
       "      <th>R17</th>\n",
       "      <th>sur</th>\n",
       "      <td>-0.14</td>\n",
       "      <td>1.03</td>\n",
       "      <td>1.17</td>\n",
       "    </tr>\n",
       "    <tr>\n",
       "      <th>R18</th>\n",
       "      <th>sur</th>\n",
       "      <td>-0.08</td>\n",
       "      <td>0.97</td>\n",
       "      <td>1.05</td>\n",
       "    </tr>\n",
       "    <tr>\n",
       "      <th>R19</th>\n",
       "      <th>des</th>\n",
       "      <td>0.83</td>\n",
       "      <td>0.83</td>\n",
       "      <td>0.00</td>\n",
       "    </tr>\n",
       "    <tr>\n",
       "      <th>R20</th>\n",
       "      <th>des</th>\n",
       "      <td>-0.37</td>\n",
       "      <td>0.00</td>\n",
       "      <td>0.37</td>\n",
       "    </tr>\n",
       "  </tbody>\n",
       "</table>\n",
       "</div>"
      ],
      "text/plain": [
       "         DGR / eV  G_act / eV  G_act,rev / eV\n",
       "R1  ads      0.09        0.09            0.00\n",
       "R2  ads      0.36        0.36            0.00\n",
       "R3  ads      0.27        0.27            0.00\n",
       "R4  ads     -0.00        0.00            0.00\n",
       "R5  sur     -0.35        0.92            1.27\n",
       "R6  ads     -0.41        0.00            0.41\n",
       "R7  sur      0.78        1.55            0.77\n",
       "R8  sur      0.10        0.10            0.00\n",
       "R9  sur      1.80        1.80            0.00\n",
       "R10 sur     -0.92        0.00            0.92\n",
       "R11 ads     -0.15        0.00            0.15\n",
       "R12 sur      1.43        1.43            0.00\n",
       "R13 des     -1.75        0.00            1.75\n",
       "R14 sur     -0.13        0.66            0.79\n",
       "R15 sur      1.20        1.20            0.00\n",
       "R16 des     -0.71        0.00            0.71\n",
       "R17 sur     -0.14        1.03            1.17\n",
       "R18 sur     -0.08        0.97            1.05\n",
       "R19 des      0.83        0.83            0.00\n",
       "R20 des     -0.37        0.00            0.37"
      ]
     },
     "execution_count": 5,
     "metadata": {},
     "output_type": "execute_result"
    }
   ],
   "source": [
    "model.df_gibbs"
   ]
  },
  {
   "cell_type": "code",
   "execution_count": 6,
   "id": "2fee6456",
   "metadata": {},
   "outputs": [
    {
     "data": {
      "text/plain": [
       "array([[ 0.,  0.],\n",
       "       [ 0.,  0.],\n",
       "       [ 0.,  0.],\n",
       "       [ 0.,  0.],\n",
       "       [ 0.,  0.],\n",
       "       [ 0.,  0.],\n",
       "       [ 0.,  0.],\n",
       "       [ 0.,  0.],\n",
       "       [ 0.,  0.],\n",
       "       [ 0.,  0.],\n",
       "       [ 0.,  0.],\n",
       "       [ 0.,  0.],\n",
       "       [ 0.,  0.],\n",
       "       [ 0.,  0.],\n",
       "       [ 0.,  0.],\n",
       "       [ 0.,  0.],\n",
       "       [ 0.,  0.],\n",
       "       [-3., -1.],\n",
       "       [-1., -1.],\n",
       "       [ 1.,  1.],\n",
       "       [ 1.,  0.],\n",
       "       [ 0.,  1.]])"
      ]
     },
     "execution_count": 6,
     "metadata": {},
     "output_type": "execute_result"
    }
   ],
   "source": [
    "model.v_global"
   ]
  },
  {
   "cell_type": "code",
   "execution_count": 7,
   "id": "c9b93343",
   "metadata": {},
   "outputs": [
    {
     "data": {
      "text/html": [
       "<div>\n",
       "<style scoped>\n",
       "    .dataframe tbody tr th:only-of-type {\n",
       "        vertical-align: middle;\n",
       "    }\n",
       "\n",
       "    .dataframe tbody tr th {\n",
       "        vertical-align: top;\n",
       "    }\n",
       "\n",
       "    .dataframe thead tr th {\n",
       "        text-align: left;\n",
       "    }\n",
       "\n",
       "    .dataframe thead tr:last-of-type th {\n",
       "        text-align: right;\n",
       "    }\n",
       "</style>\n",
       "<table border=\"1\" class=\"dataframe\">\n",
       "  <thead>\n",
       "    <tr>\n",
       "      <th></th>\n",
       "      <th>R1</th>\n",
       "      <th>R2</th>\n",
       "      <th>R3</th>\n",
       "      <th>R4</th>\n",
       "      <th>R5</th>\n",
       "      <th>R6</th>\n",
       "      <th>R7</th>\n",
       "      <th>R8</th>\n",
       "      <th>R9</th>\n",
       "      <th>R10</th>\n",
       "      <th>R11</th>\n",
       "      <th>R12</th>\n",
       "      <th>R13</th>\n",
       "      <th>R14</th>\n",
       "      <th>R15</th>\n",
       "      <th>R16</th>\n",
       "      <th>R17</th>\n",
       "      <th>R18</th>\n",
       "      <th>R19</th>\n",
       "      <th>R20</th>\n",
       "    </tr>\n",
       "    <tr>\n",
       "      <th></th>\n",
       "      <th>ads</th>\n",
       "      <th>ads</th>\n",
       "      <th>ads</th>\n",
       "      <th>ads</th>\n",
       "      <th>sur</th>\n",
       "      <th>ads</th>\n",
       "      <th>sur</th>\n",
       "      <th>sur</th>\n",
       "      <th>sur</th>\n",
       "      <th>sur</th>\n",
       "      <th>ads</th>\n",
       "      <th>sur</th>\n",
       "      <th>des</th>\n",
       "      <th>sur</th>\n",
       "      <th>sur</th>\n",
       "      <th>des</th>\n",
       "      <th>sur</th>\n",
       "      <th>sur</th>\n",
       "      <th>des</th>\n",
       "      <th>des</th>\n",
       "    </tr>\n",
       "    <tr>\n",
       "      <th>species</th>\n",
       "      <th></th>\n",
       "      <th></th>\n",
       "      <th></th>\n",
       "      <th></th>\n",
       "      <th></th>\n",
       "      <th></th>\n",
       "      <th></th>\n",
       "      <th></th>\n",
       "      <th></th>\n",
       "      <th></th>\n",
       "      <th></th>\n",
       "      <th></th>\n",
       "      <th></th>\n",
       "      <th></th>\n",
       "      <th></th>\n",
       "      <th></th>\n",
       "      <th></th>\n",
       "      <th></th>\n",
       "      <th></th>\n",
       "      <th></th>\n",
       "    </tr>\n",
       "  </thead>\n",
       "  <tbody>\n",
       "    <tr>\n",
       "      <th>i15</th>\n",
       "      <td>-1</td>\n",
       "      <td>-1</td>\n",
       "      <td>0</td>\n",
       "      <td>0</td>\n",
       "      <td>0</td>\n",
       "      <td>0</td>\n",
       "      <td>0</td>\n",
       "      <td>0</td>\n",
       "      <td>0</td>\n",
       "      <td>0</td>\n",
       "      <td>0</td>\n",
       "      <td>0</td>\n",
       "      <td>0</td>\n",
       "      <td>0</td>\n",
       "      <td>0</td>\n",
       "      <td>1</td>\n",
       "      <td>0</td>\n",
       "      <td>0</td>\n",
       "      <td>0</td>\n",
       "      <td>1</td>\n",
       "    </tr>\n",
       "    <tr>\n",
       "      <th>i16</th>\n",
       "      <td>1</td>\n",
       "      <td>0</td>\n",
       "      <td>-1</td>\n",
       "      <td>0</td>\n",
       "      <td>0</td>\n",
       "      <td>0</td>\n",
       "      <td>0</td>\n",
       "      <td>0</td>\n",
       "      <td>0</td>\n",
       "      <td>0</td>\n",
       "      <td>0</td>\n",
       "      <td>0</td>\n",
       "      <td>0</td>\n",
       "      <td>0</td>\n",
       "      <td>0</td>\n",
       "      <td>0</td>\n",
       "      <td>0</td>\n",
       "      <td>0</td>\n",
       "      <td>0</td>\n",
       "      <td>0</td>\n",
       "    </tr>\n",
       "    <tr>\n",
       "      <th>i17</th>\n",
       "      <td>0</td>\n",
       "      <td>1</td>\n",
       "      <td>0</td>\n",
       "      <td>-1</td>\n",
       "      <td>0</td>\n",
       "      <td>0</td>\n",
       "      <td>0</td>\n",
       "      <td>0</td>\n",
       "      <td>0</td>\n",
       "      <td>0</td>\n",
       "      <td>0</td>\n",
       "      <td>0</td>\n",
       "      <td>0</td>\n",
       "      <td>0</td>\n",
       "      <td>0</td>\n",
       "      <td>0</td>\n",
       "      <td>0</td>\n",
       "      <td>0</td>\n",
       "      <td>0</td>\n",
       "      <td>0</td>\n",
       "    </tr>\n",
       "    <tr>\n",
       "      <th>i18</th>\n",
       "      <td>0</td>\n",
       "      <td>0</td>\n",
       "      <td>1</td>\n",
       "      <td>1</td>\n",
       "      <td>-1</td>\n",
       "      <td>0</td>\n",
       "      <td>0</td>\n",
       "      <td>0</td>\n",
       "      <td>0</td>\n",
       "      <td>0</td>\n",
       "      <td>0</td>\n",
       "      <td>0</td>\n",
       "      <td>0</td>\n",
       "      <td>0</td>\n",
       "      <td>0</td>\n",
       "      <td>0</td>\n",
       "      <td>-1</td>\n",
       "      <td>0</td>\n",
       "      <td>0</td>\n",
       "      <td>0</td>\n",
       "    </tr>\n",
       "    <tr>\n",
       "      <th>i20</th>\n",
       "      <td>0</td>\n",
       "      <td>0</td>\n",
       "      <td>0</td>\n",
       "      <td>0</td>\n",
       "      <td>1</td>\n",
       "      <td>-1</td>\n",
       "      <td>0</td>\n",
       "      <td>0</td>\n",
       "      <td>0</td>\n",
       "      <td>0</td>\n",
       "      <td>0</td>\n",
       "      <td>0</td>\n",
       "      <td>0</td>\n",
       "      <td>0</td>\n",
       "      <td>0</td>\n",
       "      <td>0</td>\n",
       "      <td>0</td>\n",
       "      <td>0</td>\n",
       "      <td>0</td>\n",
       "      <td>0</td>\n",
       "    </tr>\n",
       "    <tr>\n",
       "      <th>i21</th>\n",
       "      <td>0</td>\n",
       "      <td>0</td>\n",
       "      <td>0</td>\n",
       "      <td>0</td>\n",
       "      <td>0</td>\n",
       "      <td>1</td>\n",
       "      <td>-1</td>\n",
       "      <td>0</td>\n",
       "      <td>-1</td>\n",
       "      <td>0</td>\n",
       "      <td>0</td>\n",
       "      <td>0</td>\n",
       "      <td>0</td>\n",
       "      <td>0</td>\n",
       "      <td>0</td>\n",
       "      <td>0</td>\n",
       "      <td>0</td>\n",
       "      <td>0</td>\n",
       "      <td>0</td>\n",
       "      <td>0</td>\n",
       "    </tr>\n",
       "    <tr>\n",
       "      <th>i22</th>\n",
       "      <td>0</td>\n",
       "      <td>0</td>\n",
       "      <td>0</td>\n",
       "      <td>0</td>\n",
       "      <td>0</td>\n",
       "      <td>0</td>\n",
       "      <td>1</td>\n",
       "      <td>-1</td>\n",
       "      <td>0</td>\n",
       "      <td>0</td>\n",
       "      <td>0</td>\n",
       "      <td>0</td>\n",
       "      <td>0</td>\n",
       "      <td>0</td>\n",
       "      <td>0</td>\n",
       "      <td>0</td>\n",
       "      <td>0</td>\n",
       "      <td>0</td>\n",
       "      <td>0</td>\n",
       "      <td>0</td>\n",
       "    </tr>\n",
       "    <tr>\n",
       "      <th>i23</th>\n",
       "      <td>0</td>\n",
       "      <td>0</td>\n",
       "      <td>0</td>\n",
       "      <td>0</td>\n",
       "      <td>0</td>\n",
       "      <td>0</td>\n",
       "      <td>0</td>\n",
       "      <td>0</td>\n",
       "      <td>1</td>\n",
       "      <td>-1</td>\n",
       "      <td>0</td>\n",
       "      <td>0</td>\n",
       "      <td>0</td>\n",
       "      <td>0</td>\n",
       "      <td>0</td>\n",
       "      <td>0</td>\n",
       "      <td>0</td>\n",
       "      <td>0</td>\n",
       "      <td>0</td>\n",
       "      <td>0</td>\n",
       "    </tr>\n",
       "    <tr>\n",
       "      <th>i24</th>\n",
       "      <td>0</td>\n",
       "      <td>0</td>\n",
       "      <td>0</td>\n",
       "      <td>0</td>\n",
       "      <td>0</td>\n",
       "      <td>0</td>\n",
       "      <td>0</td>\n",
       "      <td>1</td>\n",
       "      <td>0</td>\n",
       "      <td>1</td>\n",
       "      <td>-1</td>\n",
       "      <td>0</td>\n",
       "      <td>0</td>\n",
       "      <td>0</td>\n",
       "      <td>0</td>\n",
       "      <td>0</td>\n",
       "      <td>0</td>\n",
       "      <td>0</td>\n",
       "      <td>0</td>\n",
       "      <td>0</td>\n",
       "    </tr>\n",
       "    <tr>\n",
       "      <th>i25</th>\n",
       "      <td>0</td>\n",
       "      <td>0</td>\n",
       "      <td>0</td>\n",
       "      <td>0</td>\n",
       "      <td>0</td>\n",
       "      <td>0</td>\n",
       "      <td>0</td>\n",
       "      <td>0</td>\n",
       "      <td>0</td>\n",
       "      <td>0</td>\n",
       "      <td>1</td>\n",
       "      <td>-1</td>\n",
       "      <td>0</td>\n",
       "      <td>0</td>\n",
       "      <td>0</td>\n",
       "      <td>0</td>\n",
       "      <td>0</td>\n",
       "      <td>0</td>\n",
       "      <td>0</td>\n",
       "      <td>0</td>\n",
       "    </tr>\n",
       "    <tr>\n",
       "      <th>i26</th>\n",
       "      <td>0</td>\n",
       "      <td>0</td>\n",
       "      <td>0</td>\n",
       "      <td>0</td>\n",
       "      <td>0</td>\n",
       "      <td>0</td>\n",
       "      <td>0</td>\n",
       "      <td>0</td>\n",
       "      <td>0</td>\n",
       "      <td>0</td>\n",
       "      <td>0</td>\n",
       "      <td>1</td>\n",
       "      <td>-1</td>\n",
       "      <td>0</td>\n",
       "      <td>0</td>\n",
       "      <td>0</td>\n",
       "      <td>0</td>\n",
       "      <td>0</td>\n",
       "      <td>0</td>\n",
       "      <td>0</td>\n",
       "    </tr>\n",
       "    <tr>\n",
       "      <th>i27</th>\n",
       "      <td>0</td>\n",
       "      <td>0</td>\n",
       "      <td>0</td>\n",
       "      <td>0</td>\n",
       "      <td>0</td>\n",
       "      <td>0</td>\n",
       "      <td>0</td>\n",
       "      <td>0</td>\n",
       "      <td>0</td>\n",
       "      <td>0</td>\n",
       "      <td>0</td>\n",
       "      <td>0</td>\n",
       "      <td>1</td>\n",
       "      <td>-1</td>\n",
       "      <td>0</td>\n",
       "      <td>0</td>\n",
       "      <td>0</td>\n",
       "      <td>0</td>\n",
       "      <td>0</td>\n",
       "      <td>0</td>\n",
       "    </tr>\n",
       "    <tr>\n",
       "      <th>i28</th>\n",
       "      <td>0</td>\n",
       "      <td>0</td>\n",
       "      <td>0</td>\n",
       "      <td>0</td>\n",
       "      <td>0</td>\n",
       "      <td>0</td>\n",
       "      <td>0</td>\n",
       "      <td>0</td>\n",
       "      <td>0</td>\n",
       "      <td>0</td>\n",
       "      <td>0</td>\n",
       "      <td>0</td>\n",
       "      <td>0</td>\n",
       "      <td>1</td>\n",
       "      <td>-1</td>\n",
       "      <td>0</td>\n",
       "      <td>0</td>\n",
       "      <td>0</td>\n",
       "      <td>0</td>\n",
       "      <td>0</td>\n",
       "    </tr>\n",
       "    <tr>\n",
       "      <th>i29</th>\n",
       "      <td>0</td>\n",
       "      <td>0</td>\n",
       "      <td>0</td>\n",
       "      <td>0</td>\n",
       "      <td>0</td>\n",
       "      <td>0</td>\n",
       "      <td>0</td>\n",
       "      <td>0</td>\n",
       "      <td>0</td>\n",
       "      <td>0</td>\n",
       "      <td>0</td>\n",
       "      <td>0</td>\n",
       "      <td>0</td>\n",
       "      <td>0</td>\n",
       "      <td>1</td>\n",
       "      <td>-1</td>\n",
       "      <td>0</td>\n",
       "      <td>0</td>\n",
       "      <td>0</td>\n",
       "      <td>0</td>\n",
       "    </tr>\n",
       "    <tr>\n",
       "      <th>i35</th>\n",
       "      <td>0</td>\n",
       "      <td>0</td>\n",
       "      <td>0</td>\n",
       "      <td>0</td>\n",
       "      <td>0</td>\n",
       "      <td>0</td>\n",
       "      <td>0</td>\n",
       "      <td>0</td>\n",
       "      <td>0</td>\n",
       "      <td>0</td>\n",
       "      <td>0</td>\n",
       "      <td>0</td>\n",
       "      <td>0</td>\n",
       "      <td>0</td>\n",
       "      <td>0</td>\n",
       "      <td>0</td>\n",
       "      <td>0</td>\n",
       "      <td>0</td>\n",
       "      <td>1</td>\n",
       "      <td>-1</td>\n",
       "    </tr>\n",
       "    <tr>\n",
       "      <th>i38</th>\n",
       "      <td>0</td>\n",
       "      <td>0</td>\n",
       "      <td>0</td>\n",
       "      <td>0</td>\n",
       "      <td>0</td>\n",
       "      <td>0</td>\n",
       "      <td>0</td>\n",
       "      <td>0</td>\n",
       "      <td>0</td>\n",
       "      <td>0</td>\n",
       "      <td>0</td>\n",
       "      <td>0</td>\n",
       "      <td>0</td>\n",
       "      <td>0</td>\n",
       "      <td>0</td>\n",
       "      <td>0</td>\n",
       "      <td>1</td>\n",
       "      <td>-1</td>\n",
       "      <td>0</td>\n",
       "      <td>0</td>\n",
       "    </tr>\n",
       "    <tr>\n",
       "      <th>i39</th>\n",
       "      <td>0</td>\n",
       "      <td>0</td>\n",
       "      <td>0</td>\n",
       "      <td>0</td>\n",
       "      <td>0</td>\n",
       "      <td>0</td>\n",
       "      <td>0</td>\n",
       "      <td>0</td>\n",
       "      <td>0</td>\n",
       "      <td>0</td>\n",
       "      <td>0</td>\n",
       "      <td>0</td>\n",
       "      <td>0</td>\n",
       "      <td>0</td>\n",
       "      <td>0</td>\n",
       "      <td>0</td>\n",
       "      <td>0</td>\n",
       "      <td>1</td>\n",
       "      <td>-1</td>\n",
       "      <td>0</td>\n",
       "    </tr>\n",
       "    <tr>\n",
       "      <th>H2(g)</th>\n",
       "      <td>-1</td>\n",
       "      <td>0</td>\n",
       "      <td>0</td>\n",
       "      <td>-1</td>\n",
       "      <td>0</td>\n",
       "      <td>-1</td>\n",
       "      <td>0</td>\n",
       "      <td>0</td>\n",
       "      <td>0</td>\n",
       "      <td>0</td>\n",
       "      <td>-1</td>\n",
       "      <td>0</td>\n",
       "      <td>0</td>\n",
       "      <td>0</td>\n",
       "      <td>0</td>\n",
       "      <td>0</td>\n",
       "      <td>0</td>\n",
       "      <td>0</td>\n",
       "      <td>0</td>\n",
       "      <td>0</td>\n",
       "    </tr>\n",
       "    <tr>\n",
       "      <th>CO2(g)</th>\n",
       "      <td>0</td>\n",
       "      <td>-1</td>\n",
       "      <td>-1</td>\n",
       "      <td>0</td>\n",
       "      <td>0</td>\n",
       "      <td>0</td>\n",
       "      <td>0</td>\n",
       "      <td>0</td>\n",
       "      <td>0</td>\n",
       "      <td>0</td>\n",
       "      <td>0</td>\n",
       "      <td>0</td>\n",
       "      <td>0</td>\n",
       "      <td>0</td>\n",
       "      <td>0</td>\n",
       "      <td>0</td>\n",
       "      <td>0</td>\n",
       "      <td>0</td>\n",
       "      <td>0</td>\n",
       "      <td>0</td>\n",
       "    </tr>\n",
       "    <tr>\n",
       "      <th>H2O(g)</th>\n",
       "      <td>0</td>\n",
       "      <td>0</td>\n",
       "      <td>0</td>\n",
       "      <td>0</td>\n",
       "      <td>0</td>\n",
       "      <td>0</td>\n",
       "      <td>0</td>\n",
       "      <td>0</td>\n",
       "      <td>0</td>\n",
       "      <td>0</td>\n",
       "      <td>0</td>\n",
       "      <td>0</td>\n",
       "      <td>1</td>\n",
       "      <td>0</td>\n",
       "      <td>0</td>\n",
       "      <td>0</td>\n",
       "      <td>0</td>\n",
       "      <td>0</td>\n",
       "      <td>0</td>\n",
       "      <td>1</td>\n",
       "    </tr>\n",
       "    <tr>\n",
       "      <th>CH3OH(g)</th>\n",
       "      <td>0</td>\n",
       "      <td>0</td>\n",
       "      <td>0</td>\n",
       "      <td>0</td>\n",
       "      <td>0</td>\n",
       "      <td>0</td>\n",
       "      <td>0</td>\n",
       "      <td>0</td>\n",
       "      <td>0</td>\n",
       "      <td>0</td>\n",
       "      <td>0</td>\n",
       "      <td>0</td>\n",
       "      <td>0</td>\n",
       "      <td>0</td>\n",
       "      <td>0</td>\n",
       "      <td>1</td>\n",
       "      <td>0</td>\n",
       "      <td>0</td>\n",
       "      <td>0</td>\n",
       "      <td>0</td>\n",
       "    </tr>\n",
       "    <tr>\n",
       "      <th>CO(g)</th>\n",
       "      <td>0</td>\n",
       "      <td>0</td>\n",
       "      <td>0</td>\n",
       "      <td>0</td>\n",
       "      <td>0</td>\n",
       "      <td>0</td>\n",
       "      <td>0</td>\n",
       "      <td>0</td>\n",
       "      <td>0</td>\n",
       "      <td>0</td>\n",
       "      <td>0</td>\n",
       "      <td>0</td>\n",
       "      <td>0</td>\n",
       "      <td>0</td>\n",
       "      <td>0</td>\n",
       "      <td>0</td>\n",
       "      <td>0</td>\n",
       "      <td>0</td>\n",
       "      <td>1</td>\n",
       "      <td>0</td>\n",
       "    </tr>\n",
       "  </tbody>\n",
       "</table>\n",
       "</div>"
      ],
      "text/plain": [
       "          R1  R2  R3  R4  R5  R6  R7  R8  R9 R10 R11 R12 R13 R14 R15 R16 R17  \\\n",
       "         ads ads ads ads sur ads sur sur sur sur ads sur des sur sur des sur   \n",
       "species                                                                        \n",
       "i15       -1  -1   0   0   0   0   0   0   0   0   0   0   0   0   0   1   0   \n",
       "i16        1   0  -1   0   0   0   0   0   0   0   0   0   0   0   0   0   0   \n",
       "i17        0   1   0  -1   0   0   0   0   0   0   0   0   0   0   0   0   0   \n",
       "i18        0   0   1   1  -1   0   0   0   0   0   0   0   0   0   0   0  -1   \n",
       "i20        0   0   0   0   1  -1   0   0   0   0   0   0   0   0   0   0   0   \n",
       "i21        0   0   0   0   0   1  -1   0  -1   0   0   0   0   0   0   0   0   \n",
       "i22        0   0   0   0   0   0   1  -1   0   0   0   0   0   0   0   0   0   \n",
       "i23        0   0   0   0   0   0   0   0   1  -1   0   0   0   0   0   0   0   \n",
       "i24        0   0   0   0   0   0   0   1   0   1  -1   0   0   0   0   0   0   \n",
       "i25        0   0   0   0   0   0   0   0   0   0   1  -1   0   0   0   0   0   \n",
       "i26        0   0   0   0   0   0   0   0   0   0   0   1  -1   0   0   0   0   \n",
       "i27        0   0   0   0   0   0   0   0   0   0   0   0   1  -1   0   0   0   \n",
       "i28        0   0   0   0   0   0   0   0   0   0   0   0   0   1  -1   0   0   \n",
       "i29        0   0   0   0   0   0   0   0   0   0   0   0   0   0   1  -1   0   \n",
       "i35        0   0   0   0   0   0   0   0   0   0   0   0   0   0   0   0   0   \n",
       "i38        0   0   0   0   0   0   0   0   0   0   0   0   0   0   0   0   1   \n",
       "i39        0   0   0   0   0   0   0   0   0   0   0   0   0   0   0   0   0   \n",
       "H2(g)     -1   0   0  -1   0  -1   0   0   0   0  -1   0   0   0   0   0   0   \n",
       "CO2(g)     0  -1  -1   0   0   0   0   0   0   0   0   0   0   0   0   0   0   \n",
       "H2O(g)     0   0   0   0   0   0   0   0   0   0   0   0   1   0   0   0   0   \n",
       "CH3OH(g)   0   0   0   0   0   0   0   0   0   0   0   0   0   0   0   1   0   \n",
       "CO(g)      0   0   0   0   0   0   0   0   0   0   0   0   0   0   0   0   0   \n",
       "\n",
       "         R18 R19 R20  \n",
       "         sur des des  \n",
       "species               \n",
       "i15        0   0   1  \n",
       "i16        0   0   0  \n",
       "i17        0   0   0  \n",
       "i18        0   0   0  \n",
       "i20        0   0   0  \n",
       "i21        0   0   0  \n",
       "i22        0   0   0  \n",
       "i23        0   0   0  \n",
       "i24        0   0   0  \n",
       "i25        0   0   0  \n",
       "i26        0   0   0  \n",
       "i27        0   0   0  \n",
       "i28        0   0   0  \n",
       "i29        0   0   0  \n",
       "i35        0   1  -1  \n",
       "i38       -1   0   0  \n",
       "i39        1  -1   0  \n",
       "H2(g)      0   0   0  \n",
       "CO2(g)     0   0   0  \n",
       "H2O(g)     0   0   1  \n",
       "CH3OH(g)   0   0   0  \n",
       "CO(g)      0   1   0  "
      ]
     },
     "execution_count": 7,
     "metadata": {},
     "output_type": "execute_result"
    }
   ],
   "source": [
    "model.df_system"
   ]
  },
  {
   "cell_type": "code",
   "execution_count": 8,
   "id": "8cf10cd6",
   "metadata": {},
   "outputs": [
    {
     "data": {
      "text/plain": [
       "array([[ 0.5,  0.5],\n",
       "       [ 0.5,  0.5],\n",
       "       [ 0.5,  0.5],\n",
       "       [ 0.5,  0.5],\n",
       "       [ 1. ,  0. ],\n",
       "       [ 1. ,  0. ],\n",
       "       [ 0.5,  0. ],\n",
       "       [ 0.5,  0. ],\n",
       "       [ 0.5,  0. ],\n",
       "       [ 0.5,  0. ],\n",
       "       [ 1. ,  0. ],\n",
       "       [ 1. ,  0. ],\n",
       "       [ 1. , -0. ],\n",
       "       [ 1. , -0. ],\n",
       "       [ 1. ,  0. ],\n",
       "       [ 1. , -0. ],\n",
       "       [-0. ,  1. ],\n",
       "       [-0. ,  1. ],\n",
       "       [-0. ,  1. ],\n",
       "       [-0. ,  1. ]])"
      ]
     },
     "execution_count": 8,
     "metadata": {},
     "output_type": "execute_result"
    }
   ],
   "source": [
    "model.stoich_numbers"
   ]
  },
  {
   "cell_type": "markdown",
   "id": "99d5d288",
   "metadata": {},
   "source": [
    "## Thermodynamic consistency analysis"
   ]
  },
  {
   "cell_type": "markdown",
   "id": "e1e1350e",
   "metadata": {},
   "source": [
    "A often overlooked aspect in microkinetic models is its thermodynamic consistency: although we are dealing with catalysis, a kinetic phenomenon, it is strictly bound to thermodynamic constraints. Currently, pymkm allows a quantitative estimation of thermodynamic consistency of microkinetic models: this is done comparing directly the equilibrium constants of the global reaction we are studying with the global constants built from the elementary reactions proposed in the reaction network. This can be easily done using the MKM.thermodynamic_consistency() method, that needs as input only the temperature at which we want to perform the analysis."
   ]
  },
  {
   "cell_type": "code",
   "execution_count": 9,
   "id": "9c80e8f7",
   "metadata": {},
   "outputs": [
    {
     "name": "stdout",
     "output_type": "stream",
     "text": [
      " Pd-In2O3: Thermodynamic consistency analysis\n",
      " Temperature = 553 K\n",
      "\n",
      "----------------------------------------------------------------------------------\n",
      "\n",
      "CO2 + 3H2 -> CH3OH + H2O\n",
      "Model:    DHR=-1.18e+02 kJ/mol    DSR=-2.77e-01 kJ/mol/K     DGR=1.47e+04 kJ/mol\n",
      "Database: DHR=-6.39e+01 kJ/mol    DSR=-2.04e-01 kJ/mol/K     DGR=4.87e+01 kJ/mol\n",
      "\n",
      "Model:    keqH=1.31e+11    keqS=3.23e-15    Keq=4.25e-04\n",
      "Database: keqH=1.09e+06    keqS=2.33e-11    Keq=2.53e-05\n",
      "----------------------------------------------------------------------------------\n",
      "\n",
      "CO2 + H2 -> CO + H2O\n",
      "Model:    DHR=6.85e+01 kJ/mol    DSR=1.92e-02 kJ/mol/K     DGR=-9.56e+02 kJ/mol\n",
      "Database: DHR=3.93e+01 kJ/mol    DSR=3.74e-02 kJ/mol/K     DGR=1.87e+01 kJ/mol\n",
      "\n",
      "Model:    keqH=3.38e-07    keqS=1.01e+01    Keq=3.40e-06\n",
      "Database: keqH=1.93e-04    keqS=8.99e+01    Keq=1.73e-02\n",
      "----------------------------------------------------------------------------------\n",
      "\n"
     ]
    }
   ],
   "source": [
    "model.thermodynamic_consistency(553)"
   ]
  },
  {
   "cell_type": "markdown",
   "id": "b7845251",
   "metadata": {},
   "source": [
    "It is easy to observe from the generated report that the model is not thermodynamically consistent, both at enthalpic and entropic level, as the equilibrium constants of the global reactions calculated with DFT are order of magnitude different from the values extracted from the thermochemistry database. However, considering the MeOH reaction, observing the equilibrium constant one could think the gap is not so huge: this is due to the fact that enthalpy and entropy constants compensate each pther in the opposite direction, \"canceling\" the discrepancy between database and DFT-derived equilibrium constants."
   ]
  },
  {
   "cell_type": "markdown",
   "id": "20b6cd5d",
   "metadata": {},
   "source": [
    "## Step 2: microkinetic model single run"
   ]
  },
  {
   "cell_type": "code",
   "execution_count": 10,
   "id": "3f04734c",
   "metadata": {},
   "outputs": [
    {
     "data": {
      "text/plain": [
       "{'MeOH': 15, 'RWGS': 18}"
      ]
     },
     "execution_count": 10,
     "metadata": {},
     "output_type": "execute_result"
    }
   ],
   "source": [
    "model.grl"
   ]
  },
  {
   "cell_type": "code",
   "execution_count": 12,
   "id": "03bb7175",
   "metadata": {},
   "outputs": [
    {
     "name": "stdout",
     "output_type": "stream",
     "text": [
      "Pd-In2O3: Microkinetic run\n",
      "Reactor model: Differential PFR\n",
      "Temperature = 573K    Pressure = 50.0bar\n",
      "Gas composition: H2=80.0%  CO2=20.0%  H2O=0.0%  CH3OH=0.0%  CO=0.0%  \n",
      "\n",
      "MeOH Reaction Rate: 2.15e-01 1/s\n",
      "MeOH Selectivity: 90.42%\n",
      "Most Abundant Surface Intermediate (MASI): i21 Coverage: 86.23% \n",
      "CPU time: 6.28 s\n"
     ]
    }
   ],
   "source": [
    "exp = model.kinetic_run(573, 5e6, [0.8,0.2,0,0,0])"
   ]
  },
  {
   "cell_type": "code",
   "execution_count": 13,
   "id": "b8794618",
   "metadata": {},
   "outputs": [
    {
     "data": {
      "text/plain": [
       "dict_keys(['T', 'P', 'y_in', 'y_out', 'theta', 'ddt', 'r', 'r_MeOH', 'r_RWGS', 'conversion', 'S_MeOH', 'MASI', 'solver'])"
      ]
     },
     "execution_count": 13,
     "metadata": {},
     "output_type": "execute_result"
    }
   ],
   "source": [
    "exp.keys()"
   ]
  },
  {
   "cell_type": "code",
   "execution_count": 14,
   "id": "ecd1339b",
   "metadata": {},
   "outputs": [
    {
     "data": {
      "text/plain": [
       "0.9042376667956814"
      ]
     },
     "execution_count": 14,
     "metadata": {},
     "output_type": "execute_result"
    }
   ],
   "source": [
    "exp[\"S_MeOH\"]"
   ]
  },
  {
   "cell_type": "code",
   "execution_count": 15,
   "id": "5f0b7a84",
   "metadata": {},
   "outputs": [
    {
     "data": {
      "text/plain": [
       "{'i15': -8.326672684688674e-17,\n",
       " 'i16': 2.7755575615628914e-17,\n",
       " 'i17': 1.6534083130403943e-18,\n",
       " 'i18': 5.204170427930421e-16,\n",
       " 'i20': -2.7755575615628914e-17,\n",
       " 'i21': -3.545208571154035e-11,\n",
       " 'i22': -5.412892356559951e-13,\n",
       " 'i23': 1.0842021724855044e-19,\n",
       " 'i24': 5.47728529198821e-13,\n",
       " 'i25': 3.508335288948672e-11,\n",
       " 'i26': 5.551115123125783e-17,\n",
       " 'i27': -3.0234148518104575e-13,\n",
       " 'i28': 6.638301019989967e-13,\n",
       " 'i29': 1.1102230246251565e-16,\n",
       " 'i35': 1.3877787807814457e-17,\n",
       " 'i38': 1.8041124150158794e-16,\n",
       " 'i39': 3.469446951953614e-18,\n",
       " 'H2(g)': 0.0,\n",
       " 'CO2(g)': 0.0,\n",
       " 'H2O(g)': 0.0,\n",
       " 'CH3OH(g)': 0.0,\n",
       " 'CO(g)': 0.0}"
      ]
     },
     "execution_count": 15,
     "metadata": {},
     "output_type": "execute_result"
    }
   ],
   "source": [
    "exp[\"ddt\"]"
   ]
  },
  {
   "cell_type": "code",
   "execution_count": 16,
   "id": "357e69d3",
   "metadata": {},
   "outputs": [
    {
     "data": {
      "text/plain": [
       "0.022799307020749716"
      ]
     },
     "execution_count": 16,
     "metadata": {},
     "output_type": "execute_result"
    }
   ],
   "source": [
    "exp['r_RWGS']"
   ]
  },
  {
   "cell_type": "markdown",
   "id": "d652f8c1",
   "metadata": {},
   "source": [
    "## Step 3: Apparent activation energy"
   ]
  },
  {
   "cell_type": "code",
   "execution_count": 17,
   "id": "a91955b7",
   "metadata": {},
   "outputs": [
    {
     "data": {
      "text/plain": [
       "'differential'"
      ]
     },
     "execution_count": 17,
     "metadata": {},
     "output_type": "execute_result"
    }
   ],
   "source": [
    "model.reactor_model"
   ]
  },
  {
   "cell_type": "code",
   "execution_count": 18,
   "id": "fd5c51c9",
   "metadata": {
    "ExecuteTime": {
     "end_time": "2021-09-02T06:53:04.968336Z",
     "start_time": "2021-09-02T06:52:41.429818Z"
    }
   },
   "outputs": [
    {
     "name": "stdout",
     "output_type": "stream",
     "text": [
      "Pd-In2O3: Apparent activation energy for MeOH reaction\n",
      "\n",
      "Temperature range: 523-553K    Pressure = 50.0bar\n",
      "Gas composition: H2=80.0%  CO2=20.0%  H2O=0.0%  CH3OH=0.0%  CO=0.0%  \n",
      "\n",
      "Temperature = 523K    CPU Time: 6.31s\n",
      "Temperature = 543K    CPU Time: 6.32s\n",
      "Temperature = 563K    CPU Time: 6.31s\n"
     ]
    },
    {
     "data": {
      "image/png": "[encoded data removed]",
      "text/plain": [
       "<Figure size 3200x2400 with 1 Axes>"
      ]
     },
     "metadata": {},
     "output_type": "display_data"
    }
   ],
   "source": [
    "Eapp = model.apparent_activation_energy([523,573,20], 5e6, [0.8,0.2,0,0,0], 'MeOH')"
   ]
  },
  {
   "cell_type": "code",
   "execution_count": 19,
   "id": "9bea2b14",
   "metadata": {},
   "outputs": [
    {
     "name": "stdout",
     "output_type": "stream",
     "text": [
      "{'Tmin': 523, 'Tmax': 563, 'N': 3, 'P': 50.0, 'y_gas': {'H2(g)': 0.8, 'CO2(g)': 0.2, 'H2O(g)': 0, 'CH3OH(g)': 0, 'CO(g)': 0}, 'Eapp_MeOH': 162.94344355226187, 'R2': -0.9999735051672427}\n"
     ]
    }
   ],
   "source": [
    "print(Eapp)"
   ]
  },
  {
   "cell_type": "markdown",
   "id": "8055273d",
   "metadata": {},
   "source": [
    "## Step 4: Apparent reaction orders"
   ]
  },
  {
   "cell_type": "code",
   "execution_count": 20,
   "id": "d4864c95",
   "metadata": {
    "ExecuteTime": {
     "end_time": "2021-09-02T06:57:26.071397Z",
     "start_time": "2021-09-02T06:57:26.068916Z"
    }
   },
   "outputs": [],
   "source": [
    "import numpy as np\n",
    "composition_matrix = np.array([[0.78,0.22,0,0,0],[0.8,0.2,0,0,0],[0.82,0.18,0,0,0]])"
   ]
  },
  {
   "cell_type": "code",
   "execution_count": 21,
   "id": "aae6fc4b",
   "metadata": {
    "ExecuteTime": {
     "end_time": "2021-09-02T07:01:19.179307Z",
     "start_time": "2021-09-02T07:00:55.662946Z"
    }
   },
   "outputs": [
    {
     "name": "stdout",
     "output_type": "stream",
     "text": [
      "Pd-In2O3: CO2 Apparent reaction order for MeOH reaction\n",
      "\n",
      "Temperature = 573K    Pressure = 50.0bar\n",
      "\n",
      "y_CO2 = 0.22    CPU Time: 6.42s\n",
      "y_CO2 = 0.20    CPU Time: 6.23s\n",
      "y_CO2 = 0.18    CPU Time: 6.16s\n"
     ]
    },
    {
     "ename": "ValueError",
     "evalue": "Expected 2D array, got 1D array instead:\narray=[13.91082074 13.81551056 13.71015004].\nReshape your data either using array.reshape(-1, 1) if your data has a single feature or array.reshape(1, -1) if it contains a single sample.",
     "output_type": "error",
     "traceback": [
      "\u001b[0;31m---------------------------------------------------------------------------\u001b[0m",
      "\u001b[0;31mValueError\u001b[0m                                Traceback (most recent call last)",
      "Cell \u001b[0;32mIn[21], line 1\u001b[0m\n\u001b[0;32m----> 1\u001b[0m napp_H2 \u001b[39m=\u001b[39m model\u001b[39m.\u001b[39;49mapparent_reaction_order(\u001b[39m573\u001b[39;49m, \u001b[39m5e6\u001b[39;49m, composition_matrix, \u001b[39m'\u001b[39;49m\u001b[39mCO2\u001b[39;49m\u001b[39m'\u001b[39;49m, \u001b[39m'\u001b[39;49m\u001b[39mMeOH\u001b[39;49m\u001b[39m'\u001b[39;49m)\n",
      "File \u001b[0;32m~/Desktop/amuse/pymkm/pymkm/mkm.py:682\u001b[0m, in \u001b[0;36mMKM.apparent_reaction_order\u001b[0;34m(self, temperature, pressure, composition_matrix, species_label, global_reaction_label, initial_conditions)\u001b[0m\n\u001b[1;32m    675\u001b[0m     r_napp[i] \u001b[39m=\u001b[39m \u001b[39mlist\u001b[39m(run[\u001b[39m'\u001b[39m\u001b[39mr\u001b[39m\u001b[39m'\u001b[39m]\u001b[39m.\u001b[39mvalues())[\n\u001b[1;32m    676\u001b[0m         \u001b[39mself\u001b[39m\u001b[39m.\u001b[39mgrl[global_reaction_label]]\n\u001b[1;32m    677\u001b[0m     \u001b[39mprint\u001b[39m(\u001b[39m'\u001b[39m\u001b[39my_\u001b[39m\u001b[39m{}\u001b[39;00m\u001b[39m = \u001b[39m\u001b[39m{:.2f}\u001b[39;00m\u001b[39m    CPU Time: \u001b[39m\u001b[39m{:.2f}\u001b[39;00m\u001b[39ms\u001b[39m\u001b[39m'\u001b[39m\u001b[39m.\u001b[39mformat(species_label,\n\u001b[1;32m    678\u001b[0m                                                       composition_matrix[i,\n\u001b[1;32m    679\u001b[0m                                                                          index],\n\u001b[1;32m    680\u001b[0m                                                       time\u001b[39m.\u001b[39mtime() \u001b[39m-\u001b[39m t0))\n\u001b[0;32m--> 682\u001b[0m napp, r_squared \u001b[39m=\u001b[39m calc_reac_order(\n\u001b[1;32m    683\u001b[0m     pressure \u001b[39m*\u001b[39;49m composition_matrix[:, index], r_napp)\n\u001b[1;32m    684\u001b[0m keys \u001b[39m=\u001b[39m [\u001b[39m'\u001b[39m\u001b[39mT\u001b[39m\u001b[39m'\u001b[39m,\n\u001b[1;32m    685\u001b[0m         \u001b[39m'\u001b[39m\u001b[39mP\u001b[39m\u001b[39m'\u001b[39m,\n\u001b[1;32m    686\u001b[0m         \u001b[39m'\u001b[39m\u001b[39mN\u001b[39m\u001b[39m'\u001b[39m,\n\u001b[0;32m   (...)\u001b[0m\n\u001b[1;32m    689\u001b[0m         \u001b[39m'\u001b[39m\u001b[39mnapp_\u001b[39m\u001b[39m{}\u001b[39;00m\u001b[39m'\u001b[39m\u001b[39m.\u001b[39mformat(species_label),\n\u001b[1;32m    690\u001b[0m         \u001b[39m'\u001b[39m\u001b[39mR2\u001b[39m\u001b[39m'\u001b[39m]\n\u001b[1;32m    691\u001b[0m values \u001b[39m=\u001b[39m [temperature,\n\u001b[1;32m    692\u001b[0m           pressure\u001b[39m/\u001b[39m\u001b[39m1e5\u001b[39m,\n\u001b[1;32m    693\u001b[0m           n_runs,\n\u001b[0;32m   (...)\u001b[0m\n\u001b[1;32m    696\u001b[0m           napp,\n\u001b[1;32m    697\u001b[0m           r_squared]\n",
      "File \u001b[0;32m~/Desktop/amuse/pymkm/pymkm/functions.py:109\u001b[0m, in \u001b[0;36mcalc_reac_order\u001b[0;34m(partial_pressure, reaction_rate)\u001b[0m\n\u001b[1;32m    107\u001b[0m x \u001b[39m=\u001b[39m np\u001b[39m.\u001b[39mlog(partial_pressure)\n\u001b[1;32m    108\u001b[0m y \u001b[39m=\u001b[39m np\u001b[39m.\u001b[39mlog(reaction_rate)\n\u001b[0;32m--> 109\u001b[0m reg \u001b[39m=\u001b[39m lm\u001b[39m.\u001b[39;49mfit(x, y)\n\u001b[1;32m    110\u001b[0m napp \u001b[39m=\u001b[39m reg\u001b[39m.\u001b[39mcoef_[\u001b[39m0\u001b[39m, \u001b[39m0\u001b[39m]\n\u001b[1;32m    111\u001b[0m R2 \u001b[39m=\u001b[39m reg\u001b[39m.\u001b[39mscore(x, y)\n",
      "File \u001b[0;32m~/anaconda3/envs/amuse/lib/python3.9/site-packages/sklearn/linear_model/_base.py:648\u001b[0m, in \u001b[0;36mLinearRegression.fit\u001b[0;34m(self, X, y, sample_weight)\u001b[0m\n\u001b[1;32m    644\u001b[0m n_jobs_ \u001b[39m=\u001b[39m \u001b[39mself\u001b[39m\u001b[39m.\u001b[39mn_jobs\n\u001b[1;32m    646\u001b[0m accept_sparse \u001b[39m=\u001b[39m \u001b[39mFalse\u001b[39;00m \u001b[39mif\u001b[39;00m \u001b[39mself\u001b[39m\u001b[39m.\u001b[39mpositive \u001b[39melse\u001b[39;00m [\u001b[39m\"\u001b[39m\u001b[39mcsr\u001b[39m\u001b[39m\"\u001b[39m, \u001b[39m\"\u001b[39m\u001b[39mcsc\u001b[39m\u001b[39m\"\u001b[39m, \u001b[39m\"\u001b[39m\u001b[39mcoo\u001b[39m\u001b[39m\"\u001b[39m]\n\u001b[0;32m--> 648\u001b[0m X, y \u001b[39m=\u001b[39m \u001b[39mself\u001b[39;49m\u001b[39m.\u001b[39;49m_validate_data(\n\u001b[1;32m    649\u001b[0m     X, y, accept_sparse\u001b[39m=\u001b[39;49maccept_sparse, y_numeric\u001b[39m=\u001b[39;49m\u001b[39mTrue\u001b[39;49;00m, multi_output\u001b[39m=\u001b[39;49m\u001b[39mTrue\u001b[39;49;00m\n\u001b[1;32m    650\u001b[0m )\n\u001b[1;32m    652\u001b[0m sample_weight \u001b[39m=\u001b[39m _check_sample_weight(\n\u001b[1;32m    653\u001b[0m     sample_weight, X, dtype\u001b[39m=\u001b[39mX\u001b[39m.\u001b[39mdtype, only_non_negative\u001b[39m=\u001b[39m\u001b[39mTrue\u001b[39;00m\n\u001b[1;32m    654\u001b[0m )\n\u001b[1;32m    656\u001b[0m X, y, X_offset, y_offset, X_scale \u001b[39m=\u001b[39m _preprocess_data(\n\u001b[1;32m    657\u001b[0m     X,\n\u001b[1;32m    658\u001b[0m     y,\n\u001b[0;32m   (...)\u001b[0m\n\u001b[1;32m    661\u001b[0m     sample_weight\u001b[39m=\u001b[39msample_weight,\n\u001b[1;32m    662\u001b[0m )\n",
      "File \u001b[0;32m~/anaconda3/envs/amuse/lib/python3.9/site-packages/sklearn/base.py:584\u001b[0m, in \u001b[0;36mBaseEstimator._validate_data\u001b[0;34m(self, X, y, reset, validate_separately, **check_params)\u001b[0m\n\u001b[1;32m    582\u001b[0m         y \u001b[39m=\u001b[39m check_array(y, input_name\u001b[39m=\u001b[39m\u001b[39m\"\u001b[39m\u001b[39my\u001b[39m\u001b[39m\"\u001b[39m, \u001b[39m*\u001b[39m\u001b[39m*\u001b[39mcheck_y_params)\n\u001b[1;32m    583\u001b[0m     \u001b[39melse\u001b[39;00m:\n\u001b[0;32m--> 584\u001b[0m         X, y \u001b[39m=\u001b[39m check_X_y(X, y, \u001b[39m*\u001b[39;49m\u001b[39m*\u001b[39;49mcheck_params)\n\u001b[1;32m    585\u001b[0m     out \u001b[39m=\u001b[39m X, y\n\u001b[1;32m    587\u001b[0m \u001b[39mif\u001b[39;00m \u001b[39mnot\u001b[39;00m no_val_X \u001b[39mand\u001b[39;00m check_params\u001b[39m.\u001b[39mget(\u001b[39m\"\u001b[39m\u001b[39mensure_2d\u001b[39m\u001b[39m\"\u001b[39m, \u001b[39mTrue\u001b[39;00m):\n",
      "File \u001b[0;32m~/anaconda3/envs/amuse/lib/python3.9/site-packages/sklearn/utils/validation.py:1106\u001b[0m, in \u001b[0;36mcheck_X_y\u001b[0;34m(X, y, accept_sparse, accept_large_sparse, dtype, order, copy, force_all_finite, ensure_2d, allow_nd, multi_output, ensure_min_samples, ensure_min_features, y_numeric, estimator)\u001b[0m\n\u001b[1;32m   1101\u001b[0m         estimator_name \u001b[39m=\u001b[39m _check_estimator_name(estimator)\n\u001b[1;32m   1102\u001b[0m     \u001b[39mraise\u001b[39;00m \u001b[39mValueError\u001b[39;00m(\n\u001b[1;32m   1103\u001b[0m         \u001b[39mf\u001b[39m\u001b[39m\"\u001b[39m\u001b[39m{\u001b[39;00mestimator_name\u001b[39m}\u001b[39;00m\u001b[39m requires y to be passed, but the target y is None\u001b[39m\u001b[39m\"\u001b[39m\n\u001b[1;32m   1104\u001b[0m     )\n\u001b[0;32m-> 1106\u001b[0m X \u001b[39m=\u001b[39m check_array(\n\u001b[1;32m   1107\u001b[0m     X,\n\u001b[1;32m   1108\u001b[0m     accept_sparse\u001b[39m=\u001b[39;49maccept_sparse,\n\u001b[1;32m   1109\u001b[0m     accept_large_sparse\u001b[39m=\u001b[39;49maccept_large_sparse,\n\u001b[1;32m   1110\u001b[0m     dtype\u001b[39m=\u001b[39;49mdtype,\n\u001b[1;32m   1111\u001b[0m     order\u001b[39m=\u001b[39;49morder,\n\u001b[1;32m   1112\u001b[0m     copy\u001b[39m=\u001b[39;49mcopy,\n\u001b[1;32m   1113\u001b[0m     force_all_finite\u001b[39m=\u001b[39;49mforce_all_finite,\n\u001b[1;32m   1114\u001b[0m     ensure_2d\u001b[39m=\u001b[39;49mensure_2d,\n\u001b[1;32m   1115\u001b[0m     allow_nd\u001b[39m=\u001b[39;49mallow_nd,\n\u001b[1;32m   1116\u001b[0m     ensure_min_samples\u001b[39m=\u001b[39;49mensure_min_samples,\n\u001b[1;32m   1117\u001b[0m     ensure_min_features\u001b[39m=\u001b[39;49mensure_min_features,\n\u001b[1;32m   1118\u001b[0m     estimator\u001b[39m=\u001b[39;49mestimator,\n\u001b[1;32m   1119\u001b[0m     input_name\u001b[39m=\u001b[39;49m\u001b[39m\"\u001b[39;49m\u001b[39mX\u001b[39;49m\u001b[39m\"\u001b[39;49m,\n\u001b[1;32m   1120\u001b[0m )\n\u001b[1;32m   1122\u001b[0m y \u001b[39m=\u001b[39m _check_y(y, multi_output\u001b[39m=\u001b[39mmulti_output, y_numeric\u001b[39m=\u001b[39my_numeric, estimator\u001b[39m=\u001b[39mestimator)\n\u001b[1;32m   1124\u001b[0m check_consistent_length(X, y)\n",
      "File \u001b[0;32m~/anaconda3/envs/amuse/lib/python3.9/site-packages/sklearn/utils/validation.py:902\u001b[0m, in \u001b[0;36mcheck_array\u001b[0;34m(array, accept_sparse, accept_large_sparse, dtype, order, copy, force_all_finite, ensure_2d, allow_nd, ensure_min_samples, ensure_min_features, estimator, input_name)\u001b[0m\n\u001b[1;32m    900\u001b[0m     \u001b[39m# If input is 1D raise error\u001b[39;00m\n\u001b[1;32m    901\u001b[0m     \u001b[39mif\u001b[39;00m array\u001b[39m.\u001b[39mndim \u001b[39m==\u001b[39m \u001b[39m1\u001b[39m:\n\u001b[0;32m--> 902\u001b[0m         \u001b[39mraise\u001b[39;00m \u001b[39mValueError\u001b[39;00m(\n\u001b[1;32m    903\u001b[0m             \u001b[39m\"\u001b[39m\u001b[39mExpected 2D array, got 1D array instead:\u001b[39m\u001b[39m\\n\u001b[39;00m\u001b[39marray=\u001b[39m\u001b[39m{}\u001b[39;00m\u001b[39m.\u001b[39m\u001b[39m\\n\u001b[39;00m\u001b[39m\"\u001b[39m\n\u001b[1;32m    904\u001b[0m             \u001b[39m\"\u001b[39m\u001b[39mReshape your data either using array.reshape(-1, 1) if \u001b[39m\u001b[39m\"\u001b[39m\n\u001b[1;32m    905\u001b[0m             \u001b[39m\"\u001b[39m\u001b[39myour data has a single feature or array.reshape(1, -1) \u001b[39m\u001b[39m\"\u001b[39m\n\u001b[1;32m    906\u001b[0m             \u001b[39m\"\u001b[39m\u001b[39mif it contains a single sample.\u001b[39m\u001b[39m\"\u001b[39m\u001b[39m.\u001b[39mformat(array)\n\u001b[1;32m    907\u001b[0m         )\n\u001b[1;32m    909\u001b[0m \u001b[39mif\u001b[39;00m dtype_numeric \u001b[39mand\u001b[39;00m array\u001b[39m.\u001b[39mdtype\u001b[39m.\u001b[39mkind \u001b[39min\u001b[39;00m \u001b[39m\"\u001b[39m\u001b[39mUSV\u001b[39m\u001b[39m\"\u001b[39m:\n\u001b[1;32m    910\u001b[0m     \u001b[39mraise\u001b[39;00m \u001b[39mValueError\u001b[39;00m(\n\u001b[1;32m    911\u001b[0m         \u001b[39m\"\u001b[39m\u001b[39mdtype=\u001b[39m\u001b[39m'\u001b[39m\u001b[39mnumeric\u001b[39m\u001b[39m'\u001b[39m\u001b[39m is not compatible with arrays of bytes/strings.\u001b[39m\u001b[39m\"\u001b[39m\n\u001b[1;32m    912\u001b[0m         \u001b[39m\"\u001b[39m\u001b[39mConvert your data to numeric values explicitly instead.\u001b[39m\u001b[39m\"\u001b[39m\n\u001b[1;32m    913\u001b[0m     )\n",
      "\u001b[0;31mValueError\u001b[0m: Expected 2D array, got 1D array instead:\narray=[13.91082074 13.81551056 13.71015004].\nReshape your data either using array.reshape(-1, 1) if your data has a single feature or array.reshape(1, -1) if it contains a single sample."
     ]
    }
   ],
   "source": [
    "napp_H2 = model.apparent_reaction_order(573, 5e6, composition_matrix, 'CO2', 'MeOH')"
   ]
  },
  {
   "cell_type": "code",
   "execution_count": null,
   "id": "4d639642",
   "metadata": {},
   "outputs": [],
   "source": [
    "napp_H2"
   ]
  },
  {
   "cell_type": "markdown",
   "id": "b7a1f82b",
   "metadata": {},
   "source": [
    "## Descriptor search: Reversibility analysis"
   ]
  },
  {
   "cell_type": "code",
   "execution_count": null,
   "id": "37f04c64",
   "metadata": {},
   "outputs": [],
   "source": [
    "rev = model.reversibility(573, 5e6, [0.8,0.2,0,0,0])"
   ]
  },
  {
   "cell_type": "code",
   "execution_count": null,
   "id": "0a16c0ea",
   "metadata": {},
   "outputs": [],
   "source": [
    "rev"
   ]
  },
  {
   "cell_type": "markdown",
   "id": "02ce8243",
   "metadata": {},
   "source": [
    "## Rate-determining step search: Degree of rate and selectivity control"
   ]
  },
  {
   "cell_type": "code",
   "execution_count": null,
   "id": "84a26c69",
   "metadata": {},
   "outputs": [],
   "source": [
    "output = model.drc_full(573, 5e6, [0.8,0.2,0,0,0], \"MeOH\")"
   ]
  },
  {
   "cell_type": "code",
   "execution_count": null,
   "id": "06ff9209",
   "metadata": {},
   "outputs": [],
   "source": [
    "output[0]"
   ]
  },
  {
   "cell_type": "code",
   "execution_count": null,
   "id": "cc6d6a1b",
   "metadata": {},
   "outputs": [],
   "source": []
  },
  {
   "cell_type": "markdown",
   "id": "7abd2da5",
   "metadata": {},
   "source": [
    "# Dynamic CSTR"
   ]
  },
  {
   "cell_type": "markdown",
   "id": "4b1c2134",
   "metadata": {},
   "source": [
    "If someone is interested in extracting also values related to conversion and yield, the differential model is not suitable for the purpose. In order to obtain this information, a macroscopic reactor model (i.e., able to provide information about the conversion) is needed. MKM provides the dynamic CSTR model as macroscopic model. In order to use it, the reactor switch must be turned on and information about the reactor set-up must be defined."
   ]
  },
  {
   "cell_type": "code",
   "execution_count": 4,
   "id": "87091371",
   "metadata": {},
   "outputs": [],
   "source": [
    "T=473\n",
    "P=1e6\n",
    "model = MKM('Test'+str(T), './Transport/rm_transport.mkm', \n",
    "            './Transport/g_transport.mkm', t_ref=T)"
   ]
  },
  {
   "cell_type": "code",
   "execution_count": 5,
   "id": "12b2aa8d",
   "metadata": {},
   "outputs": [
    {
     "name": "stdout",
     "output_type": "stream",
     "text": [
      "Reactor volume: 3.35e-07 [m3]\n",
      "Inlet volumetric flowrate : 6.60e-07 [m3/s]\n",
      "Residence time: 3.00e-05 [s]\n",
      "Catalyst mass: 1.00e-04 [kg]\n",
      "Catalyst surface: 1.74e+05 [m2/kg_cat]\n",
      "Active site surface: 1.00e-19 [m2]\n"
     ]
    }
   ],
   "source": [
    "model.set_reactor('dynamic')\n",
    "model.set_CSTR_params(radius=0.0022,\n",
    "                      length=0.0022*10,\n",
    "                      Q=0.66E-6,\n",
    "                      S_BET=1.74E5,\n",
    "                      m_cat=1.0E-4)"
   ]
  },
  {
   "cell_type": "code",
   "execution_count": 6,
   "id": "9f40d799",
   "metadata": {},
   "outputs": [
    {
     "data": {
      "text/plain": [
       "6.6e-07"
      ]
     },
     "execution_count": 6,
     "metadata": {},
     "output_type": "execute_result"
    }
   ],
   "source": [
    "model.reactor.Q"
   ]
  },
  {
   "cell_type": "code",
   "execution_count": 8,
   "id": "446660bd",
   "metadata": {},
   "outputs": [
    {
     "name": "stdout",
     "output_type": "stream",
     "text": [
      "Test473: Microkinetic run\n",
      "Reactor model: Dynamic CSTR\n",
      "Temperature = 553K    Pressure = 50.0bar\n",
      "Gas composition: A=100.0%  B=0.0%  \n",
      "\n",
      "Test Reaction Rate: 6.18e-01 1/s\n",
      "Test Selectivity: 100.00%\n",
      "Most Abundant Surface Intermediate (MASI): B Coverage: 98.52% \n",
      "CPU time: 1.10 s\n"
     ]
    }
   ],
   "source": [
    "import numpy as np\n",
    "x = model.kinetic_run(553, 5e6, np.asarray([1.0, 0]))"
   ]
  },
  {
   "cell_type": "code",
   "execution_count": 9,
   "id": "a3586ac1",
   "metadata": {},
   "outputs": [
    {
     "data": {
      "text/plain": [
       "dict_keys(['T', 'P', 'y_in', 'y_out', 'theta', 'ddt', 'r', 'r_Test', 'conversion', 'S_Test', 'MASI', 'solver'])"
      ]
     },
     "execution_count": 9,
     "metadata": {},
     "output_type": "execute_result"
    }
   ],
   "source": [
    "x.keys()"
   ]
  },
  {
   "cell_type": "code",
   "execution_count": null,
   "id": "005838cd",
   "metadata": {},
   "outputs": [],
   "source": [
    "x['MASI']"
   ]
  },
  {
   "cell_type": "code",
   "execution_count": null,
   "id": "ecce4784",
   "metadata": {},
   "outputs": [],
   "source": [
    "x['r_RWGS']"
   ]
  },
  {
   "cell_type": "code",
   "execution_count": null,
   "id": "58b49be1",
   "metadata": {},
   "outputs": [],
   "source": [
    "x['r_MeOH']"
   ]
  },
  {
   "cell_type": "code",
   "execution_count": null,
   "id": "d443a975",
   "metadata": {},
   "outputs": [],
   "source": [
    "x['conversion']"
   ]
  },
  {
   "cell_type": "code",
   "execution_count": 10,
   "id": "ad604d11",
   "metadata": {},
   "outputs": [
    {
     "data": {
      "text/plain": [
       "{'A(g)': 0.7511437911534663, 'B(g)': 0.24885620884653367}"
      ]
     },
     "execution_count": 10,
     "metadata": {},
     "output_type": "execute_result"
    }
   ],
   "source": [
    "x['y_out']"
   ]
  },
  {
   "cell_type": "code",
   "execution_count": null,
   "id": "32677efd",
   "metadata": {},
   "outputs": [],
   "source": []
  }
 ],
 "metadata": {
  "kernelspec": {
   "display_name": "Python 3 (ipykernel)",
   "language": "python",
   "name": "python3"
  },
  "language_info": {
   "codemirror_mode": {
    "name": "ipython",
    "version": 3
   },
   "file_extension": ".py",
   "mimetype": "text/x-python",
   "name": "python",
   "nbconvert_exporter": "python",
   "pygments_lexer": "ipython3",
   "version": "3.10.9"
  },
  "toc": {
   "base_numbering": 1,
   "nav_menu": {},
   "number_sections": true,
   "sideBar": true,
   "skip_h1_title": false,
   "title_cell": "Table of Contents",
   "title_sidebar": "Contents",
   "toc_cell": false,
   "toc_position": {},
   "toc_section_display": true,
   "toc_window_display": false
  },
  "varInspector": {
   "cols": {
    "lenName": 16,
    "lenType": 16,
    "lenVar": 40
   },
   "kernels_config": {
    "python": {
     "delete_cmd_postfix": "",
     "delete_cmd_prefix": "del ",
     "library": "var_list.py",
     "varRefreshCmd": "print(var_dic_list())"
    },
    "r": {
     "delete_cmd_postfix": ") ",
     "delete_cmd_prefix": "rm(",
     "library": "var_list.r",
     "varRefreshCmd": "cat(var_dic_list()) "
    }
   },
   "types_to_exclude": [
    "module",
    "function",
    "builtin_function_or_method",
    "instance",
    "_Feature"
   ],
   "window_display": false
  }
 },
 "nbformat": 4,
 "nbformat_minor": 5
}
